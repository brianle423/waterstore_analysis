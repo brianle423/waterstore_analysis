{
 "cells": [
  {
   "cell_type": "code",
   "execution_count": 1,
   "id": "719f762b",
   "metadata": {},
   "outputs": [],
   "source": [
    "import pandas as pd\n",
    "import numpy as np\n",
    "import matplotlib.pyplot as plt\n",
    "import seaborn as sns\n",
    "import warnings\n",
    "\n",
    "%matplotlib inline\n",
    "sns.set()\n",
    "warnings.filterwarnings('ignore')\n",
    "pd.set_option(\"display.max_columns\", None)"
   ]
  },
  {
   "cell_type": "code",
   "execution_count": 3,
   "id": "aab86cb8",
   "metadata": {},
   "outputs": [],
   "source": [
    "meter_lucky = pd.read_excel('../Water Daily Sales/Raw Data/Year 2021/TwoStore_DailySale Jun-21.xlsx', sheet_name='Meter_Lucky', index_col='Date', parse_dates=True)"
   ]
  },
  {
   "cell_type": "code",
   "execution_count": 4,
   "id": "1721cb2f",
   "metadata": {},
   "outputs": [
    {
     "data": {
      "text/html": [
       "<div>\n",
       "<style scoped>\n",
       "    .dataframe tbody tr th:only-of-type {\n",
       "        vertical-align: middle;\n",
       "    }\n",
       "\n",
       "    .dataframe tbody tr th {\n",
       "        vertical-align: top;\n",
       "    }\n",
       "\n",
       "    .dataframe thead th {\n",
       "        text-align: right;\n",
       "    }\n",
       "</style>\n",
       "<table border=\"1\" class=\"dataframe\">\n",
       "  <thead>\n",
       "    <tr style=\"text-align: right;\">\n",
       "      <th></th>\n",
       "      <th>Unnamed: 0</th>\n",
       "      <th>Unnamed: 2</th>\n",
       "      <th>Meter</th>\n",
       "      <th>Daily</th>\n",
       "      <th>Daily AVG</th>\n",
       "      <th>Month AVG</th>\n",
       "      <th>Actual</th>\n",
       "      <th>YTD DailyAVG</th>\n",
       "      <th>MOM</th>\n",
       "      <th>Vending 1</th>\n",
       "      <th>Vending 2</th>\n",
       "      <th>Vend Sales</th>\n",
       "      <th>Unnamed: 13</th>\n",
       "      <th>Vend $$$</th>\n",
       "      <th>$Avg per day</th>\n",
       "      <th>Carbon</th>\n",
       "      <th>Sediment</th>\n",
       "      <th>Salt</th>\n",
       "      <th>Unnamed: 19</th>\n",
       "      <th>Unnamed: 20</th>\n",
       "      <th>Unnamed: 21</th>\n",
       "      <th>Unnamed: 22</th>\n",
       "      <th>Unnamed: 23</th>\n",
       "      <th>Unnamed: 24</th>\n",
       "      <th>Unnamed: 25</th>\n",
       "      <th>Unnamed: 26</th>\n",
       "    </tr>\n",
       "    <tr>\n",
       "      <th>Date</th>\n",
       "      <th></th>\n",
       "      <th></th>\n",
       "      <th></th>\n",
       "      <th></th>\n",
       "      <th></th>\n",
       "      <th></th>\n",
       "      <th></th>\n",
       "      <th></th>\n",
       "      <th></th>\n",
       "      <th></th>\n",
       "      <th></th>\n",
       "      <th></th>\n",
       "      <th></th>\n",
       "      <th></th>\n",
       "      <th></th>\n",
       "      <th></th>\n",
       "      <th></th>\n",
       "      <th></th>\n",
       "      <th></th>\n",
       "      <th></th>\n",
       "      <th></th>\n",
       "      <th></th>\n",
       "      <th></th>\n",
       "      <th></th>\n",
       "      <th></th>\n",
       "      <th></th>\n",
       "    </tr>\n",
       "  </thead>\n",
       "  <tbody>\n",
       "    <tr>\n",
       "      <th>2021-07-28</th>\n",
       "      <td>2021-07-28 00:00:00</td>\n",
       "      <td>8074490.0</td>\n",
       "      <td>8076190.0</td>\n",
       "      <td>1700.0</td>\n",
       "      <td>NaN</td>\n",
       "      <td>NaN</td>\n",
       "      <td>NaN</td>\n",
       "      <td>NaN</td>\n",
       "      <td>NaN</td>\n",
       "      <td>NaN</td>\n",
       "      <td>NaN</td>\n",
       "      <td>NaN</td>\n",
       "      <td>NaN</td>\n",
       "      <td>NaN</td>\n",
       "      <td>NaN</td>\n",
       "      <td>NaN</td>\n",
       "      <td>NaN</td>\n",
       "      <td>NaN</td>\n",
       "      <td>NaN</td>\n",
       "      <td>NaN</td>\n",
       "      <td>NaN</td>\n",
       "      <td>NaN</td>\n",
       "      <td>NaN</td>\n",
       "      <td>NaN</td>\n",
       "      <td>NaN</td>\n",
       "      <td>NaN</td>\n",
       "    </tr>\n",
       "    <tr>\n",
       "      <th>2021-07-29</th>\n",
       "      <td>2021-07-29 00:00:00</td>\n",
       "      <td>8076370.0</td>\n",
       "      <td>8077930.0</td>\n",
       "      <td>1560.0</td>\n",
       "      <td>NaN</td>\n",
       "      <td>NaN</td>\n",
       "      <td>NaN</td>\n",
       "      <td>NaN</td>\n",
       "      <td>NaN</td>\n",
       "      <td>NaN</td>\n",
       "      <td>NaN</td>\n",
       "      <td>NaN</td>\n",
       "      <td>NaN</td>\n",
       "      <td>NaN</td>\n",
       "      <td>NaN</td>\n",
       "      <td>NaN</td>\n",
       "      <td>NaN</td>\n",
       "      <td>NaN</td>\n",
       "      <td>NaN</td>\n",
       "      <td>NaN</td>\n",
       "      <td>NaN</td>\n",
       "      <td>NaN</td>\n",
       "      <td>NaN</td>\n",
       "      <td>NaN</td>\n",
       "      <td>NaN</td>\n",
       "      <td>NaN</td>\n",
       "    </tr>\n",
       "    <tr>\n",
       "      <th>2021-07-30</th>\n",
       "      <td>2021-07-30 00:00:00</td>\n",
       "      <td>8078080.0</td>\n",
       "      <td>8079560.0</td>\n",
       "      <td>1480.0</td>\n",
       "      <td>NaN</td>\n",
       "      <td>NaN</td>\n",
       "      <td>NaN</td>\n",
       "      <td>NaN</td>\n",
       "      <td>NaN</td>\n",
       "      <td>NaN</td>\n",
       "      <td>NaN</td>\n",
       "      <td>NaN</td>\n",
       "      <td>NaN</td>\n",
       "      <td>NaN</td>\n",
       "      <td>NaN</td>\n",
       "      <td>NaN</td>\n",
       "      <td>NaN</td>\n",
       "      <td>NaN</td>\n",
       "      <td>NaN</td>\n",
       "      <td>NaN</td>\n",
       "      <td>NaN</td>\n",
       "      <td>NaN</td>\n",
       "      <td>NaN</td>\n",
       "      <td>NaN</td>\n",
       "      <td>NaN</td>\n",
       "      <td>NaN</td>\n",
       "    </tr>\n",
       "    <tr>\n",
       "      <th>2021-07-31</th>\n",
       "      <td>2021-07-31 00:00:00</td>\n",
       "      <td>0.0</td>\n",
       "      <td>0.0</td>\n",
       "      <td>0.0</td>\n",
       "      <td>NaN</td>\n",
       "      <td>NaN</td>\n",
       "      <td>NaN</td>\n",
       "      <td>NaN</td>\n",
       "      <td>NaN</td>\n",
       "      <td>NaN</td>\n",
       "      <td>NaN</td>\n",
       "      <td>NaN</td>\n",
       "      <td>NaN</td>\n",
       "      <td>NaN</td>\n",
       "      <td>NaN</td>\n",
       "      <td>NaN</td>\n",
       "      <td>NaN</td>\n",
       "      <td>NaN</td>\n",
       "      <td>NaN</td>\n",
       "      <td>NaN</td>\n",
       "      <td>NaN</td>\n",
       "      <td>NaN</td>\n",
       "      <td>NaN</td>\n",
       "      <td>NaN</td>\n",
       "      <td>NaN</td>\n",
       "      <td>NaN</td>\n",
       "    </tr>\n",
       "    <tr>\n",
       "      <th>2021-08-01</th>\n",
       "      <td>2021-08-01 00:00:00</td>\n",
       "      <td>0.0</td>\n",
       "      <td>0.0</td>\n",
       "      <td>0.0</td>\n",
       "      <td>NaN</td>\n",
       "      <td>NaN</td>\n",
       "      <td>NaN</td>\n",
       "      <td>NaN</td>\n",
       "      <td>NaN</td>\n",
       "      <td>NaN</td>\n",
       "      <td>NaN</td>\n",
       "      <td>NaN</td>\n",
       "      <td>NaN</td>\n",
       "      <td>NaN</td>\n",
       "      <td>NaN</td>\n",
       "      <td>NaN</td>\n",
       "      <td>NaN</td>\n",
       "      <td>NaN</td>\n",
       "      <td>NaN</td>\n",
       "      <td>NaN</td>\n",
       "      <td>NaN</td>\n",
       "      <td>NaN</td>\n",
       "      <td>NaN</td>\n",
       "      <td>NaN</td>\n",
       "      <td>NaN</td>\n",
       "      <td>NaN</td>\n",
       "    </tr>\n",
       "  </tbody>\n",
       "</table>\n",
       "</div>"
      ],
      "text/plain": [
       "                     Unnamed: 0  Unnamed: 2      Meter  Daily   Daily AVG  \\\n",
       "Date                                                                        \n",
       "2021-07-28  2021-07-28 00:00:00   8074490.0  8076190.0  1700.0        NaN   \n",
       "2021-07-29  2021-07-29 00:00:00   8076370.0  8077930.0  1560.0        NaN   \n",
       "2021-07-30  2021-07-30 00:00:00   8078080.0  8079560.0  1480.0        NaN   \n",
       "2021-07-31  2021-07-31 00:00:00         0.0        0.0     0.0        NaN   \n",
       "2021-08-01  2021-08-01 00:00:00         0.0        0.0     0.0        NaN   \n",
       "\n",
       "           Month AVG  Actual YTD DailyAVG  MOM Vending 1  Vending 2  \\\n",
       "Date                                                                  \n",
       "2021-07-28       NaN     NaN          NaN  NaN       NaN        NaN   \n",
       "2021-07-29       NaN     NaN          NaN  NaN       NaN        NaN   \n",
       "2021-07-30       NaN     NaN          NaN  NaN       NaN        NaN   \n",
       "2021-07-31       NaN     NaN          NaN  NaN       NaN        NaN   \n",
       "2021-08-01       NaN     NaN          NaN  NaN       NaN        NaN   \n",
       "\n",
       "            Vend Sales  Unnamed: 13  Vend $$$  $Avg per day  Carbon Sediment  \\\n",
       "Date                                                                           \n",
       "2021-07-28         NaN          NaN       NaN           NaN     NaN      NaN   \n",
       "2021-07-29         NaN          NaN       NaN           NaN     NaN      NaN   \n",
       "2021-07-30         NaN          NaN       NaN           NaN     NaN      NaN   \n",
       "2021-07-31         NaN          NaN       NaN           NaN     NaN      NaN   \n",
       "2021-08-01         NaN          NaN       NaN           NaN     NaN      NaN   \n",
       "\n",
       "            Salt  Unnamed: 19  Unnamed: 20  Unnamed: 21  Unnamed: 22  \\\n",
       "Date                                                                   \n",
       "2021-07-28   NaN          NaN          NaN          NaN          NaN   \n",
       "2021-07-29   NaN          NaN          NaN          NaN          NaN   \n",
       "2021-07-30   NaN          NaN          NaN          NaN          NaN   \n",
       "2021-07-31   NaN          NaN          NaN          NaN          NaN   \n",
       "2021-08-01   NaN          NaN          NaN          NaN          NaN   \n",
       "\n",
       "            Unnamed: 23  Unnamed: 24  Unnamed: 25  Unnamed: 26  \n",
       "Date                                                            \n",
       "2021-07-28          NaN          NaN          NaN          NaN  \n",
       "2021-07-29          NaN          NaN          NaN          NaN  \n",
       "2021-07-30          NaN          NaN          NaN          NaN  \n",
       "2021-07-31          NaN          NaN          NaN          NaN  \n",
       "2021-08-01          NaN          NaN          NaN          NaN  "
      ]
     },
     "execution_count": 4,
     "metadata": {},
     "output_type": "execute_result"
    }
   ],
   "source": [
    "meter_lucky.tail()"
   ]
  },
  {
   "cell_type": "code",
   "execution_count": 5,
   "id": "dd4f745d",
   "metadata": {},
   "outputs": [],
   "source": [
    "missing = meter_lucky.isnull().sum()/len(meter_lucky)*100\n",
    "missing = missing.drop(missing[missing==0].index).sort_values(ascending=False)\n",
    "missing_values = pd.DataFrame({'Missing Ratio':missing})"
   ]
  },
  {
   "cell_type": "code",
   "execution_count": 6,
   "id": "15541f81",
   "metadata": {},
   "outputs": [],
   "source": [
    "rename = {'Unnamed: 0':'Weekday', 'Unnamed: 2':'Meter In', \n",
    "          'Meter':'Meter Out', 'Carbon':'Vending/Inside', 'Unnamed: 13':'???', \n",
    "          'Vend Sales':'Vending Gallons', 'Vend $$$': 'Vending Revenue', 'Daily ': 'Daily'}\n",
    "meter_lucky = meter_lucky.rename(columns=rename)"
   ]
  },
  {
   "cell_type": "code",
   "execution_count": 7,
   "id": "462a8b2e",
   "metadata": {},
   "outputs": [],
   "source": [
    "meter_lucky['Weekday'] = meter_lucky.index.day_name()\n",
    "meter_lucky['Weekday'] = meter_lucky['Weekday'].apply(lambda x: x[:3])"
   ]
  },
  {
   "cell_type": "code",
   "execution_count": 8,
   "id": "af9c76fd",
   "metadata": {},
   "outputs": [],
   "source": [
    "daily_meter_lucky = meter_lucky[['Weekday', 'Meter In', 'Meter Out', 'Daily']]\n",
    "vending_meter_lucky = meter_lucky[['Vending 1', 'Vending 2', 'Vending Gallons', 'Vending Revenue', 'Vending/Inside']]"
   ]
  },
  {
   "cell_type": "code",
   "execution_count": 9,
   "id": "645c325e",
   "metadata": {},
   "outputs": [],
   "source": [
    "daily_meter_lucky = daily_meter_lucky.iloc[:-2]"
   ]
  },
  {
   "cell_type": "markdown",
   "id": "67775935",
   "metadata": {},
   "source": [
    "## Manually fixing bad data"
   ]
  },
  {
   "cell_type": "code",
   "execution_count": 10,
   "id": "1739d0b7",
   "metadata": {},
   "outputs": [
    {
     "data": {
      "text/plain": [
       "Date\n",
       "2017-11-06      -2890.0\n",
       "2021-07-02   -8027520.0\n",
       "Name: Daily, dtype: float64"
      ]
     },
     "execution_count": 10,
     "metadata": {},
     "output_type": "execute_result"
    }
   ],
   "source": [
    "daily_meter_lucky['Daily'][daily_meter_lucky['Daily'] < 0]"
   ]
  },
  {
   "cell_type": "code",
   "execution_count": 11,
   "id": "f6bd9bb1",
   "metadata": {
    "scrolled": true
   },
   "outputs": [
    {
     "data": {
      "text/html": [
       "<div>\n",
       "<style scoped>\n",
       "    .dataframe tbody tr th:only-of-type {\n",
       "        vertical-align: middle;\n",
       "    }\n",
       "\n",
       "    .dataframe tbody tr th {\n",
       "        vertical-align: top;\n",
       "    }\n",
       "\n",
       "    .dataframe thead th {\n",
       "        text-align: right;\n",
       "    }\n",
       "</style>\n",
       "<table border=\"1\" class=\"dataframe\">\n",
       "  <thead>\n",
       "    <tr style=\"text-align: right;\">\n",
       "      <th></th>\n",
       "      <th>Weekday</th>\n",
       "      <th>Meter In</th>\n",
       "      <th>Meter Out</th>\n",
       "      <th>Daily</th>\n",
       "    </tr>\n",
       "    <tr>\n",
       "      <th>Date</th>\n",
       "      <th></th>\n",
       "      <th></th>\n",
       "      <th></th>\n",
       "      <th></th>\n",
       "    </tr>\n",
       "  </thead>\n",
       "  <tbody>\n",
       "    <tr>\n",
       "      <th>2017-11-01</th>\n",
       "      <td>Wed</td>\n",
       "      <td>NaN</td>\n",
       "      <td>5586040.0</td>\n",
       "      <td>1510.0</td>\n",
       "    </tr>\n",
       "    <tr>\n",
       "      <th>2017-11-02</th>\n",
       "      <td>Thu</td>\n",
       "      <td>NaN</td>\n",
       "      <td>5587510.0</td>\n",
       "      <td>1470.0</td>\n",
       "    </tr>\n",
       "    <tr>\n",
       "      <th>2017-11-03</th>\n",
       "      <td>Fri</td>\n",
       "      <td>NaN</td>\n",
       "      <td>5593950.0</td>\n",
       "      <td>6440.0</td>\n",
       "    </tr>\n",
       "    <tr>\n",
       "      <th>2017-11-04</th>\n",
       "      <td>Sat</td>\n",
       "      <td>NaN</td>\n",
       "      <td>5595950.0</td>\n",
       "      <td>2000.0</td>\n",
       "    </tr>\n",
       "    <tr>\n",
       "      <th>2017-11-05</th>\n",
       "      <td>Sun</td>\n",
       "      <td>NaN</td>\n",
       "      <td>5598450.0</td>\n",
       "      <td>2500.0</td>\n",
       "    </tr>\n",
       "    <tr>\n",
       "      <th>2017-11-06</th>\n",
       "      <td>Mon</td>\n",
       "      <td>NaN</td>\n",
       "      <td>5595560.0</td>\n",
       "      <td>-2890.0</td>\n",
       "    </tr>\n",
       "    <tr>\n",
       "      <th>2017-11-07</th>\n",
       "      <td>Tue</td>\n",
       "      <td>NaN</td>\n",
       "      <td>5597200.0</td>\n",
       "      <td>1640.0</td>\n",
       "    </tr>\n",
       "    <tr>\n",
       "      <th>2017-11-08</th>\n",
       "      <td>Wed</td>\n",
       "      <td>NaN</td>\n",
       "      <td>5598840.0</td>\n",
       "      <td>1640.0</td>\n",
       "    </tr>\n",
       "    <tr>\n",
       "      <th>2017-11-09</th>\n",
       "      <td>Thu</td>\n",
       "      <td>NaN</td>\n",
       "      <td>5600520.0</td>\n",
       "      <td>1680.0</td>\n",
       "    </tr>\n",
       "    <tr>\n",
       "      <th>2017-11-10</th>\n",
       "      <td>Fri</td>\n",
       "      <td>NaN</td>\n",
       "      <td>5602350.0</td>\n",
       "      <td>1830.0</td>\n",
       "    </tr>\n",
       "  </tbody>\n",
       "</table>\n",
       "</div>"
      ],
      "text/plain": [
       "           Weekday  Meter In  Meter Out   Daily\n",
       "Date                                           \n",
       "2017-11-01     Wed       NaN  5586040.0  1510.0\n",
       "2017-11-02     Thu       NaN  5587510.0  1470.0\n",
       "2017-11-03     Fri       NaN  5593950.0  6440.0\n",
       "2017-11-04     Sat       NaN  5595950.0  2000.0\n",
       "2017-11-05     Sun       NaN  5598450.0  2500.0\n",
       "2017-11-06     Mon       NaN  5595560.0 -2890.0\n",
       "2017-11-07     Tue       NaN  5597200.0  1640.0\n",
       "2017-11-08     Wed       NaN  5598840.0  1640.0\n",
       "2017-11-09     Thu       NaN  5600520.0  1680.0\n",
       "2017-11-10     Fri       NaN  5602350.0  1830.0"
      ]
     },
     "execution_count": 11,
     "metadata": {},
     "output_type": "execute_result"
    }
   ],
   "source": [
    "daily_meter_lucky.loc['2017-11-01':'2017-11-10']"
   ]
  },
  {
   "cell_type": "code",
   "execution_count": 12,
   "id": "fdcc5b23",
   "metadata": {},
   "outputs": [
    {
     "data": {
      "text/plain": [
       "1705.0"
      ]
     },
     "execution_count": 12,
     "metadata": {},
     "output_type": "execute_result"
    }
   ],
   "source": [
    "daily_meter_lucky['Daily'].loc['2016-11-01':'2016-11-30'].median()"
   ]
  },
  {
   "cell_type": "code",
   "execution_count": 13,
   "id": "00e6ff7f",
   "metadata": {},
   "outputs": [],
   "source": [
    "daily_meter_lucky['Meter Out'].loc['2017-11-03'] = 5589308.0\n",
    "daily_meter_lucky['Meter Out'].loc['2017-11-04'] = 5591013.0\n",
    "daily_meter_lucky['Meter Out'].loc['2017-11-05'] = 5592763.0\n",
    "daily_meter_lucky['Meter Out'].loc['2017-11-06'] = 5594453.0\n",
    "daily_meter_lucky['Meter Out'].loc['2017-11-06'] = 5595580.0\n",
    "daily_meter_lucky['Meter Out'].loc['2017-11-07'] = 5597200.0\n",
    "daily_meter_lucky['Meter Out'].loc['2017-11-08'] = 5598840.0 "
   ]
  },
  {
   "cell_type": "code",
   "execution_count": 14,
   "id": "f2d543ea",
   "metadata": {},
   "outputs": [
    {
     "data": {
      "text/html": [
       "<div>\n",
       "<style scoped>\n",
       "    .dataframe tbody tr th:only-of-type {\n",
       "        vertical-align: middle;\n",
       "    }\n",
       "\n",
       "    .dataframe tbody tr th {\n",
       "        vertical-align: top;\n",
       "    }\n",
       "\n",
       "    .dataframe thead th {\n",
       "        text-align: right;\n",
       "    }\n",
       "</style>\n",
       "<table border=\"1\" class=\"dataframe\">\n",
       "  <thead>\n",
       "    <tr style=\"text-align: right;\">\n",
       "      <th></th>\n",
       "      <th>Weekday</th>\n",
       "      <th>Meter In</th>\n",
       "      <th>Meter Out</th>\n",
       "      <th>Daily</th>\n",
       "    </tr>\n",
       "    <tr>\n",
       "      <th>Date</th>\n",
       "      <th></th>\n",
       "      <th></th>\n",
       "      <th></th>\n",
       "      <th></th>\n",
       "    </tr>\n",
       "  </thead>\n",
       "  <tbody>\n",
       "    <tr>\n",
       "      <th>2021-06-30</th>\n",
       "      <td>Wed</td>\n",
       "      <td>8078080.0</td>\n",
       "      <td>8079560.0</td>\n",
       "      <td>1480.0</td>\n",
       "    </tr>\n",
       "    <tr>\n",
       "      <th>2021-07-01</th>\n",
       "      <td>Thu</td>\n",
       "      <td>8025260.0</td>\n",
       "      <td>8027320.0</td>\n",
       "      <td>2060.0</td>\n",
       "    </tr>\n",
       "    <tr>\n",
       "      <th>2021-07-02</th>\n",
       "      <td>Fri</td>\n",
       "      <td>8027520.0</td>\n",
       "      <td>0.0</td>\n",
       "      <td>-8027520.0</td>\n",
       "    </tr>\n",
       "    <tr>\n",
       "      <th>2021-07-03</th>\n",
       "      <td>Sat</td>\n",
       "      <td>8029420.0</td>\n",
       "      <td>8030960.0</td>\n",
       "      <td>1540.0</td>\n",
       "    </tr>\n",
       "  </tbody>\n",
       "</table>\n",
       "</div>"
      ],
      "text/plain": [
       "           Weekday   Meter In  Meter Out      Daily\n",
       "Date                                               \n",
       "2021-06-30     Wed  8078080.0  8079560.0     1480.0\n",
       "2021-07-01     Thu  8025260.0  8027320.0     2060.0\n",
       "2021-07-02     Fri  8027520.0        0.0 -8027520.0\n",
       "2021-07-03     Sat  8029420.0  8030960.0     1540.0"
      ]
     },
     "execution_count": 14,
     "metadata": {},
     "output_type": "execute_result"
    }
   ],
   "source": [
    "daily_meter_lucky.loc['2021-06-30':'2021-07-03']"
   ]
  },
  {
   "cell_type": "code",
   "execution_count": 15,
   "id": "6591c4f8",
   "metadata": {},
   "outputs": [],
   "source": [
    "daily_meter_lucky['Meter Out'].loc['2021-07-02'] = 8029420.0"
   ]
  },
  {
   "cell_type": "code",
   "execution_count": 16,
   "id": "b7721376",
   "metadata": {
    "scrolled": true
   },
   "outputs": [
    {
     "data": {
      "text/html": [
       "<div>\n",
       "<style scoped>\n",
       "    .dataframe tbody tr th:only-of-type {\n",
       "        vertical-align: middle;\n",
       "    }\n",
       "\n",
       "    .dataframe tbody tr th {\n",
       "        vertical-align: top;\n",
       "    }\n",
       "\n",
       "    .dataframe thead th {\n",
       "        text-align: right;\n",
       "    }\n",
       "</style>\n",
       "<table border=\"1\" class=\"dataframe\">\n",
       "  <thead>\n",
       "    <tr style=\"text-align: right;\">\n",
       "      <th></th>\n",
       "      <th>Weekday</th>\n",
       "      <th>Meter In</th>\n",
       "      <th>Meter Out</th>\n",
       "      <th>Daily</th>\n",
       "    </tr>\n",
       "    <tr>\n",
       "      <th>Date</th>\n",
       "      <th></th>\n",
       "      <th></th>\n",
       "      <th></th>\n",
       "      <th></th>\n",
       "    </tr>\n",
       "  </thead>\n",
       "  <tbody>\n",
       "    <tr>\n",
       "      <th>2018-04-27</th>\n",
       "      <td>Fri</td>\n",
       "      <td>NaN</td>\n",
       "      <td>5913360.0</td>\n",
       "      <td>1690.0</td>\n",
       "    </tr>\n",
       "    <tr>\n",
       "      <th>2018-04-28</th>\n",
       "      <td>Sat</td>\n",
       "      <td>NaN</td>\n",
       "      <td>5915680.0</td>\n",
       "      <td>2320.0</td>\n",
       "    </tr>\n",
       "    <tr>\n",
       "      <th>2018-04-29</th>\n",
       "      <td>Sun</td>\n",
       "      <td>NaN</td>\n",
       "      <td>5918170.0</td>\n",
       "      <td>2490.0</td>\n",
       "    </tr>\n",
       "    <tr>\n",
       "      <th>2018-04-30</th>\n",
       "      <td>Mon</td>\n",
       "      <td>NaN</td>\n",
       "      <td>5919800.0</td>\n",
       "      <td>1630.0</td>\n",
       "    </tr>\n",
       "    <tr>\n",
       "      <th>2018-05-01</th>\n",
       "      <td>Tue</td>\n",
       "      <td>5919880.0</td>\n",
       "      <td>5921420.0</td>\n",
       "      <td>1620.0</td>\n",
       "    </tr>\n",
       "    <tr>\n",
       "      <th>2018-05-02</th>\n",
       "      <td>Wed</td>\n",
       "      <td>5921420.0</td>\n",
       "      <td>5923090.0</td>\n",
       "      <td>1670.0</td>\n",
       "    </tr>\n",
       "  </tbody>\n",
       "</table>\n",
       "</div>"
      ],
      "text/plain": [
       "           Weekday   Meter In  Meter Out   Daily\n",
       "Date                                            \n",
       "2018-04-27     Fri        NaN  5913360.0  1690.0\n",
       "2018-04-28     Sat        NaN  5915680.0  2320.0\n",
       "2018-04-29     Sun        NaN  5918170.0  2490.0\n",
       "2018-04-30     Mon        NaN  5919800.0  1630.0\n",
       "2018-05-01     Tue  5919880.0  5921420.0  1620.0\n",
       "2018-05-02     Wed  5921420.0  5923090.0  1670.0"
      ]
     },
     "execution_count": 16,
     "metadata": {},
     "output_type": "execute_result"
    }
   ],
   "source": [
    "daily_meter_lucky.loc['2018-04-27':'2018-05-02']"
   ]
  },
  {
   "cell_type": "code",
   "execution_count": 17,
   "id": "791cd32a",
   "metadata": {
    "scrolled": true
   },
   "outputs": [
    {
     "data": {
      "text/plain": [
       "Date\n",
       "2017-11-03    6440.0\n",
       "2020-04-12    9140.0\n",
       "2020-09-09    6120.0\n",
       "Name: Daily, dtype: float64"
      ]
     },
     "execution_count": 17,
     "metadata": {},
     "output_type": "execute_result"
    }
   ],
   "source": [
    "daily_meter_lucky['Daily'][daily_meter_lucky['Daily'] > 5000]"
   ]
  },
  {
   "cell_type": "code",
   "execution_count": 18,
   "id": "9b539c20",
   "metadata": {
    "scrolled": true
   },
   "outputs": [
    {
     "data": {
      "text/html": [
       "<div>\n",
       "<style scoped>\n",
       "    .dataframe tbody tr th:only-of-type {\n",
       "        vertical-align: middle;\n",
       "    }\n",
       "\n",
       "    .dataframe tbody tr th {\n",
       "        vertical-align: top;\n",
       "    }\n",
       "\n",
       "    .dataframe thead th {\n",
       "        text-align: right;\n",
       "    }\n",
       "</style>\n",
       "<table border=\"1\" class=\"dataframe\">\n",
       "  <thead>\n",
       "    <tr style=\"text-align: right;\">\n",
       "      <th></th>\n",
       "      <th>Weekday</th>\n",
       "      <th>Meter In</th>\n",
       "      <th>Meter Out</th>\n",
       "      <th>Daily</th>\n",
       "    </tr>\n",
       "    <tr>\n",
       "      <th>Date</th>\n",
       "      <th></th>\n",
       "      <th></th>\n",
       "      <th></th>\n",
       "      <th></th>\n",
       "    </tr>\n",
       "  </thead>\n",
       "  <tbody>\n",
       "    <tr>\n",
       "      <th>2018-10-26</th>\n",
       "      <td>Fri</td>\n",
       "      <td>6260930.0</td>\n",
       "      <td>6262420.0</td>\n",
       "      <td>1570.0</td>\n",
       "    </tr>\n",
       "    <tr>\n",
       "      <th>2018-10-27</th>\n",
       "      <td>Sat</td>\n",
       "      <td>6262350.0</td>\n",
       "      <td>6264580.0</td>\n",
       "      <td>2160.0</td>\n",
       "    </tr>\n",
       "    <tr>\n",
       "      <th>2018-10-28</th>\n",
       "      <td>Sun</td>\n",
       "      <td>6264690.0</td>\n",
       "      <td>6266980.0</td>\n",
       "      <td>2400.0</td>\n",
       "    </tr>\n",
       "    <tr>\n",
       "      <th>2018-10-29</th>\n",
       "      <td>Mon</td>\n",
       "      <td>626780.0</td>\n",
       "      <td>6268850.0</td>\n",
       "      <td>1870.0</td>\n",
       "    </tr>\n",
       "    <tr>\n",
       "      <th>2018-10-30</th>\n",
       "      <td>Tue</td>\n",
       "      <td>626950.0</td>\n",
       "      <td>6270230.0</td>\n",
       "      <td>1380.0</td>\n",
       "    </tr>\n",
       "    <tr>\n",
       "      <th>2018-10-31</th>\n",
       "      <td>Wed</td>\n",
       "      <td>6270300.0</td>\n",
       "      <td>6271520.0</td>\n",
       "      <td>1290.0</td>\n",
       "    </tr>\n",
       "  </tbody>\n",
       "</table>\n",
       "</div>"
      ],
      "text/plain": [
       "           Weekday   Meter In  Meter Out   Daily\n",
       "Date                                            \n",
       "2018-10-26     Fri  6260930.0  6262420.0  1570.0\n",
       "2018-10-27     Sat  6262350.0  6264580.0  2160.0\n",
       "2018-10-28     Sun  6264690.0  6266980.0  2400.0\n",
       "2018-10-29     Mon   626780.0  6268850.0  1870.0\n",
       "2018-10-30     Tue   626950.0  6270230.0  1380.0\n",
       "2018-10-31     Wed  6270300.0  6271520.0  1290.0"
      ]
     },
     "execution_count": 18,
     "metadata": {},
     "output_type": "execute_result"
    }
   ],
   "source": [
    "daily_meter_lucky.loc['2018-10-26':'2018-10-31']"
   ]
  },
  {
   "cell_type": "code",
   "execution_count": 19,
   "id": "e123412b",
   "metadata": {},
   "outputs": [],
   "source": [
    "daily_meter_lucky['Meter In'].loc['2018-10-29'] = 6267800.0\n",
    "daily_meter_lucky['Meter In'].loc['2018-10-30'] = 6269500.0"
   ]
  },
  {
   "cell_type": "code",
   "execution_count": 20,
   "id": "4be536a2",
   "metadata": {},
   "outputs": [
    {
     "data": {
      "text/html": [
       "<div>\n",
       "<style scoped>\n",
       "    .dataframe tbody tr th:only-of-type {\n",
       "        vertical-align: middle;\n",
       "    }\n",
       "\n",
       "    .dataframe tbody tr th {\n",
       "        vertical-align: top;\n",
       "    }\n",
       "\n",
       "    .dataframe thead th {\n",
       "        text-align: right;\n",
       "    }\n",
       "</style>\n",
       "<table border=\"1\" class=\"dataframe\">\n",
       "  <thead>\n",
       "    <tr style=\"text-align: right;\">\n",
       "      <th></th>\n",
       "      <th>Weekday</th>\n",
       "      <th>Meter In</th>\n",
       "      <th>Meter Out</th>\n",
       "      <th>Daily</th>\n",
       "    </tr>\n",
       "    <tr>\n",
       "      <th>Date</th>\n",
       "      <th></th>\n",
       "      <th></th>\n",
       "      <th></th>\n",
       "      <th></th>\n",
       "    </tr>\n",
       "  </thead>\n",
       "  <tbody>\n",
       "    <tr>\n",
       "      <th>2018-08-27</th>\n",
       "      <td>Mon</td>\n",
       "      <td>6146450.0</td>\n",
       "      <td>6148210.0</td>\n",
       "      <td>1900.0</td>\n",
       "    </tr>\n",
       "    <tr>\n",
       "      <th>2018-08-28</th>\n",
       "      <td>Tue</td>\n",
       "      <td>6148320.0</td>\n",
       "      <td>6149970.0</td>\n",
       "      <td>1760.0</td>\n",
       "    </tr>\n",
       "    <tr>\n",
       "      <th>2018-08-29</th>\n",
       "      <td>Wed</td>\n",
       "      <td>6152110.0</td>\n",
       "      <td>6152030.0</td>\n",
       "      <td>2060.0</td>\n",
       "    </tr>\n",
       "    <tr>\n",
       "      <th>2018-08-30</th>\n",
       "      <td>Thu</td>\n",
       "      <td>6152030.0</td>\n",
       "      <td>6153530.0</td>\n",
       "      <td>1500.0</td>\n",
       "    </tr>\n",
       "    <tr>\n",
       "      <th>2018-08-31</th>\n",
       "      <td>Fri</td>\n",
       "      <td>6153570.0</td>\n",
       "      <td>6155420.0</td>\n",
       "      <td>1890.0</td>\n",
       "    </tr>\n",
       "  </tbody>\n",
       "</table>\n",
       "</div>"
      ],
      "text/plain": [
       "           Weekday   Meter In  Meter Out   Daily\n",
       "Date                                            \n",
       "2018-08-27     Mon  6146450.0  6148210.0  1900.0\n",
       "2018-08-28     Tue  6148320.0  6149970.0  1760.0\n",
       "2018-08-29     Wed  6152110.0  6152030.0  2060.0\n",
       "2018-08-30     Thu  6152030.0  6153530.0  1500.0\n",
       "2018-08-31     Fri  6153570.0  6155420.0  1890.0"
      ]
     },
     "execution_count": 20,
     "metadata": {},
     "output_type": "execute_result"
    }
   ],
   "source": [
    "daily_meter_lucky.loc['2018-08-27': '2018-08-31']"
   ]
  },
  {
   "cell_type": "code",
   "execution_count": 21,
   "id": "508173b8",
   "metadata": {},
   "outputs": [],
   "source": [
    "daily_meter_lucky['Meter In'].loc['2018-08-29'] = 6150120.0"
   ]
  },
  {
   "cell_type": "code",
   "execution_count": 22,
   "id": "7b3e6267",
   "metadata": {},
   "outputs": [
    {
     "data": {
      "text/html": [
       "<div>\n",
       "<style scoped>\n",
       "    .dataframe tbody tr th:only-of-type {\n",
       "        vertical-align: middle;\n",
       "    }\n",
       "\n",
       "    .dataframe tbody tr th {\n",
       "        vertical-align: top;\n",
       "    }\n",
       "\n",
       "    .dataframe thead th {\n",
       "        text-align: right;\n",
       "    }\n",
       "</style>\n",
       "<table border=\"1\" class=\"dataframe\">\n",
       "  <thead>\n",
       "    <tr style=\"text-align: right;\">\n",
       "      <th></th>\n",
       "      <th>Weekday</th>\n",
       "      <th>Meter In</th>\n",
       "      <th>Meter Out</th>\n",
       "      <th>Daily</th>\n",
       "    </tr>\n",
       "    <tr>\n",
       "      <th>Date</th>\n",
       "      <th></th>\n",
       "      <th></th>\n",
       "      <th></th>\n",
       "      <th></th>\n",
       "    </tr>\n",
       "  </thead>\n",
       "  <tbody>\n",
       "    <tr>\n",
       "      <th>2018-10-05</th>\n",
       "      <td>Fri</td>\n",
       "      <td>6221520.0</td>\n",
       "      <td>6222830.0</td>\n",
       "      <td>1480.0</td>\n",
       "    </tr>\n",
       "    <tr>\n",
       "      <th>2018-10-06</th>\n",
       "      <td>Sat</td>\n",
       "      <td>NaN</td>\n",
       "      <td>6225230.0</td>\n",
       "      <td>2400.0</td>\n",
       "    </tr>\n",
       "    <tr>\n",
       "      <th>2018-10-07</th>\n",
       "      <td>Sun</td>\n",
       "      <td>6227810.0</td>\n",
       "      <td>6227830.0</td>\n",
       "      <td>2600.0</td>\n",
       "    </tr>\n",
       "    <tr>\n",
       "      <th>2018-10-08</th>\n",
       "      <td>Mon</td>\n",
       "      <td>6229850.0</td>\n",
       "      <td>6229630.0</td>\n",
       "      <td>1800.0</td>\n",
       "    </tr>\n",
       "    <tr>\n",
       "      <th>2018-10-09</th>\n",
       "      <td>Tue</td>\n",
       "      <td>NaN</td>\n",
       "      <td>6231130.0</td>\n",
       "      <td>1500.0</td>\n",
       "    </tr>\n",
       "    <tr>\n",
       "      <th>2018-10-10</th>\n",
       "      <td>Wed</td>\n",
       "      <td>6231860.0</td>\n",
       "      <td>6232390.0</td>\n",
       "      <td>1260.0</td>\n",
       "    </tr>\n",
       "    <tr>\n",
       "      <th>2018-10-11</th>\n",
       "      <td>Thu</td>\n",
       "      <td>6233610.0</td>\n",
       "      <td>6234270.0</td>\n",
       "      <td>1880.0</td>\n",
       "    </tr>\n",
       "    <tr>\n",
       "      <th>2018-10-12</th>\n",
       "      <td>Fri</td>\n",
       "      <td>6235010.0</td>\n",
       "      <td>6236240.0</td>\n",
       "      <td>1970.0</td>\n",
       "    </tr>\n",
       "  </tbody>\n",
       "</table>\n",
       "</div>"
      ],
      "text/plain": [
       "           Weekday   Meter In  Meter Out   Daily\n",
       "Date                                            \n",
       "2018-10-05     Fri  6221520.0  6222830.0  1480.0\n",
       "2018-10-06     Sat        NaN  6225230.0  2400.0\n",
       "2018-10-07     Sun  6227810.0  6227830.0  2600.0\n",
       "2018-10-08     Mon  6229850.0  6229630.0  1800.0\n",
       "2018-10-09     Tue        NaN  6231130.0  1500.0\n",
       "2018-10-10     Wed  6231860.0  6232390.0  1260.0\n",
       "2018-10-11     Thu  6233610.0  6234270.0  1880.0\n",
       "2018-10-12     Fri  6235010.0  6236240.0  1970.0"
      ]
     },
     "execution_count": 22,
     "metadata": {},
     "output_type": "execute_result"
    }
   ],
   "source": [
    "daily_meter_lucky.loc['2018-10-05':'2018-10-12']"
   ]
  },
  {
   "cell_type": "code",
   "execution_count": 23,
   "id": "23e888d5",
   "metadata": {},
   "outputs": [],
   "source": [
    "daily_meter_lucky['Meter In'].loc['2018-10-06'] = 6222900.0\n",
    "daily_meter_lucky['Meter In'].loc['2018-10-07'] = 6225300.0\n",
    "daily_meter_lucky['Meter In'].loc['2018-10-08'] = 6227940.0\n",
    "daily_meter_lucky['Meter In'].loc['2018-10-09'] = 6229710.0"
   ]
  },
  {
   "cell_type": "code",
   "execution_count": 24,
   "id": "7c7e1bd1",
   "metadata": {},
   "outputs": [
    {
     "data": {
      "text/html": [
       "<div>\n",
       "<style scoped>\n",
       "    .dataframe tbody tr th:only-of-type {\n",
       "        vertical-align: middle;\n",
       "    }\n",
       "\n",
       "    .dataframe tbody tr th {\n",
       "        vertical-align: top;\n",
       "    }\n",
       "\n",
       "    .dataframe thead th {\n",
       "        text-align: right;\n",
       "    }\n",
       "</style>\n",
       "<table border=\"1\" class=\"dataframe\">\n",
       "  <thead>\n",
       "    <tr style=\"text-align: right;\">\n",
       "      <th></th>\n",
       "      <th>Weekday</th>\n",
       "      <th>Meter In</th>\n",
       "      <th>Meter Out</th>\n",
       "      <th>Daily</th>\n",
       "    </tr>\n",
       "    <tr>\n",
       "      <th>Date</th>\n",
       "      <th></th>\n",
       "      <th></th>\n",
       "      <th></th>\n",
       "      <th></th>\n",
       "    </tr>\n",
       "  </thead>\n",
       "  <tbody>\n",
       "    <tr>\n",
       "      <th>2019-08-21</th>\n",
       "      <td>Wed</td>\n",
       "      <td>6814870.0</td>\n",
       "      <td>6816450.0</td>\n",
       "      <td>1820.0</td>\n",
       "    </tr>\n",
       "    <tr>\n",
       "      <th>2019-08-22</th>\n",
       "      <td>Thu</td>\n",
       "      <td>6816450.0</td>\n",
       "      <td>6817850.0</td>\n",
       "      <td>1400.0</td>\n",
       "    </tr>\n",
       "    <tr>\n",
       "      <th>2019-08-23</th>\n",
       "      <td>Fri</td>\n",
       "      <td>6818000.0</td>\n",
       "      <td>6820020.0</td>\n",
       "      <td>2170.0</td>\n",
       "    </tr>\n",
       "    <tr>\n",
       "      <th>2019-08-24</th>\n",
       "      <td>Sat</td>\n",
       "      <td>6870100.0</td>\n",
       "      <td>6822010.0</td>\n",
       "      <td>1990.0</td>\n",
       "    </tr>\n",
       "    <tr>\n",
       "      <th>2019-08-25</th>\n",
       "      <td>Sun</td>\n",
       "      <td>6822280.0</td>\n",
       "      <td>6824880.0</td>\n",
       "      <td>2870.0</td>\n",
       "    </tr>\n",
       "    <tr>\n",
       "      <th>2019-08-26</th>\n",
       "      <td>Mon</td>\n",
       "      <td>6824990.0</td>\n",
       "      <td>6826840.0</td>\n",
       "      <td>1960.0</td>\n",
       "    </tr>\n",
       "    <tr>\n",
       "      <th>2019-08-27</th>\n",
       "      <td>Tue</td>\n",
       "      <td>6826930.0</td>\n",
       "      <td>6828620.0</td>\n",
       "      <td>1780.0</td>\n",
       "    </tr>\n",
       "  </tbody>\n",
       "</table>\n",
       "</div>"
      ],
      "text/plain": [
       "           Weekday   Meter In  Meter Out   Daily\n",
       "Date                                            \n",
       "2019-08-21     Wed  6814870.0  6816450.0  1820.0\n",
       "2019-08-22     Thu  6816450.0  6817850.0  1400.0\n",
       "2019-08-23     Fri  6818000.0  6820020.0  2170.0\n",
       "2019-08-24     Sat  6870100.0  6822010.0  1990.0\n",
       "2019-08-25     Sun  6822280.0  6824880.0  2870.0\n",
       "2019-08-26     Mon  6824990.0  6826840.0  1960.0\n",
       "2019-08-27     Tue  6826930.0  6828620.0  1780.0"
      ]
     },
     "execution_count": 24,
     "metadata": {},
     "output_type": "execute_result"
    }
   ],
   "source": [
    "daily_meter_lucky.loc['2019-08-21':'2019-08-27']"
   ]
  },
  {
   "cell_type": "code",
   "execution_count": 25,
   "id": "497e549e",
   "metadata": {},
   "outputs": [],
   "source": [
    "daily_meter_lucky['Meter In'].loc['2019-08-24'] = 6820100.0"
   ]
  },
  {
   "cell_type": "code",
   "execution_count": 26,
   "id": "713c5a6a",
   "metadata": {},
   "outputs": [
    {
     "data": {
      "text/html": [
       "<div>\n",
       "<style scoped>\n",
       "    .dataframe tbody tr th:only-of-type {\n",
       "        vertical-align: middle;\n",
       "    }\n",
       "\n",
       "    .dataframe tbody tr th {\n",
       "        vertical-align: top;\n",
       "    }\n",
       "\n",
       "    .dataframe thead th {\n",
       "        text-align: right;\n",
       "    }\n",
       "</style>\n",
       "<table border=\"1\" class=\"dataframe\">\n",
       "  <thead>\n",
       "    <tr style=\"text-align: right;\">\n",
       "      <th></th>\n",
       "      <th>Weekday</th>\n",
       "      <th>Meter In</th>\n",
       "      <th>Meter Out</th>\n",
       "      <th>Daily</th>\n",
       "    </tr>\n",
       "    <tr>\n",
       "      <th>Date</th>\n",
       "      <th></th>\n",
       "      <th></th>\n",
       "      <th></th>\n",
       "      <th></th>\n",
       "    </tr>\n",
       "  </thead>\n",
       "  <tbody>\n",
       "    <tr>\n",
       "      <th>2019-02-03</th>\n",
       "      <td>Sun</td>\n",
       "      <td>6442060.0</td>\n",
       "      <td>6443990.0</td>\n",
       "      <td>2010.0</td>\n",
       "    </tr>\n",
       "    <tr>\n",
       "      <th>2019-02-04</th>\n",
       "      <td>Mon</td>\n",
       "      <td>6444070.0</td>\n",
       "      <td>6445570.0</td>\n",
       "      <td>1580.0</td>\n",
       "    </tr>\n",
       "    <tr>\n",
       "      <th>2019-02-05</th>\n",
       "      <td>Tue</td>\n",
       "      <td>6445650.0</td>\n",
       "      <td>6446850.0</td>\n",
       "      <td>1280.0</td>\n",
       "    </tr>\n",
       "    <tr>\n",
       "      <th>2019-02-06</th>\n",
       "      <td>Wed</td>\n",
       "      <td>6448740.0</td>\n",
       "      <td>6448740.0</td>\n",
       "      <td>1890.0</td>\n",
       "    </tr>\n",
       "    <tr>\n",
       "      <th>2019-02-07</th>\n",
       "      <td>Thu</td>\n",
       "      <td>6448740.0</td>\n",
       "      <td>6450040.0</td>\n",
       "      <td>1300.0</td>\n",
       "    </tr>\n",
       "    <tr>\n",
       "      <th>2019-02-08</th>\n",
       "      <td>Fri</td>\n",
       "      <td>6450190.0</td>\n",
       "      <td>6451460.0</td>\n",
       "      <td>1420.0</td>\n",
       "    </tr>\n",
       "  </tbody>\n",
       "</table>\n",
       "</div>"
      ],
      "text/plain": [
       "           Weekday   Meter In  Meter Out   Daily\n",
       "Date                                            \n",
       "2019-02-03     Sun  6442060.0  6443990.0  2010.0\n",
       "2019-02-04     Mon  6444070.0  6445570.0  1580.0\n",
       "2019-02-05     Tue  6445650.0  6446850.0  1280.0\n",
       "2019-02-06     Wed  6448740.0  6448740.0  1890.0\n",
       "2019-02-07     Thu  6448740.0  6450040.0  1300.0\n",
       "2019-02-08     Fri  6450190.0  6451460.0  1420.0"
      ]
     },
     "execution_count": 26,
     "metadata": {},
     "output_type": "execute_result"
    }
   ],
   "source": [
    "daily_meter_lucky.loc['2019-02-03':'2019-02-08']"
   ]
  },
  {
   "cell_type": "code",
   "execution_count": 27,
   "id": "aca5b977",
   "metadata": {},
   "outputs": [],
   "source": [
    "daily_meter_lucky['Meter In'].loc['2019-02-06'] = 6446910.0"
   ]
  },
  {
   "cell_type": "markdown",
   "id": "5191a634",
   "metadata": {},
   "source": [
    "## Recalculating Daily and Daily w/ Vending"
   ]
  },
  {
   "cell_type": "code",
   "execution_count": 28,
   "id": "bdd6a536",
   "metadata": {},
   "outputs": [
    {
     "data": {
      "text/html": [
       "<div>\n",
       "<style scoped>\n",
       "    .dataframe tbody tr th:only-of-type {\n",
       "        vertical-align: middle;\n",
       "    }\n",
       "\n",
       "    .dataframe tbody tr th {\n",
       "        vertical-align: top;\n",
       "    }\n",
       "\n",
       "    .dataframe thead th {\n",
       "        text-align: right;\n",
       "    }\n",
       "</style>\n",
       "<table border=\"1\" class=\"dataframe\">\n",
       "  <thead>\n",
       "    <tr style=\"text-align: right;\">\n",
       "      <th></th>\n",
       "      <th>Weekday</th>\n",
       "      <th>Meter In</th>\n",
       "      <th>Meter Out</th>\n",
       "      <th>Daily</th>\n",
       "    </tr>\n",
       "    <tr>\n",
       "      <th>Date</th>\n",
       "      <th></th>\n",
       "      <th></th>\n",
       "      <th></th>\n",
       "      <th></th>\n",
       "    </tr>\n",
       "  </thead>\n",
       "  <tbody>\n",
       "    <tr>\n",
       "      <th>2008-01-31</th>\n",
       "      <td>Thu</td>\n",
       "      <td>NaN</td>\n",
       "      <td>3560600.0</td>\n",
       "      <td>NaN</td>\n",
       "    </tr>\n",
       "    <tr>\n",
       "      <th>2008-02-01</th>\n",
       "      <td>Fri</td>\n",
       "      <td>3560600.0</td>\n",
       "      <td>3561780.0</td>\n",
       "      <td>1180.0</td>\n",
       "    </tr>\n",
       "    <tr>\n",
       "      <th>2008-02-02</th>\n",
       "      <td>Sat</td>\n",
       "      <td>3561780.0</td>\n",
       "      <td>3563440.0</td>\n",
       "      <td>1660.0</td>\n",
       "    </tr>\n",
       "    <tr>\n",
       "      <th>2008-02-03</th>\n",
       "      <td>Sun</td>\n",
       "      <td>3563440.0</td>\n",
       "      <td>3565320.0</td>\n",
       "      <td>1880.0</td>\n",
       "    </tr>\n",
       "    <tr>\n",
       "      <th>2008-02-04</th>\n",
       "      <td>Mon</td>\n",
       "      <td>3565320.0</td>\n",
       "      <td>3566720.0</td>\n",
       "      <td>1400.0</td>\n",
       "    </tr>\n",
       "  </tbody>\n",
       "</table>\n",
       "</div>"
      ],
      "text/plain": [
       "           Weekday   Meter In  Meter Out   Daily\n",
       "Date                                            \n",
       "2008-01-31     Thu        NaN  3560600.0     NaN\n",
       "2008-02-01     Fri  3560600.0  3561780.0  1180.0\n",
       "2008-02-02     Sat  3561780.0  3563440.0  1660.0\n",
       "2008-02-03     Sun  3563440.0  3565320.0  1880.0\n",
       "2008-02-04     Mon  3565320.0  3566720.0  1400.0"
      ]
     },
     "execution_count": 28,
     "metadata": {},
     "output_type": "execute_result"
    }
   ],
   "source": [
    "pre_meter_lucky = daily_meter_lucky.loc[:'2018-04-30']\n",
    "pre_meter_lucky['Meter In'] = pre_meter_lucky['Meter Out'].shift(1)\n",
    "pre_meter_lucky.head()"
   ]
  },
  {
   "cell_type": "code",
   "execution_count": 29,
   "id": "340f9ff7",
   "metadata": {
    "scrolled": true
   },
   "outputs": [
    {
     "data": {
      "text/html": [
       "<div>\n",
       "<style scoped>\n",
       "    .dataframe tbody tr th:only-of-type {\n",
       "        vertical-align: middle;\n",
       "    }\n",
       "\n",
       "    .dataframe tbody tr th {\n",
       "        vertical-align: top;\n",
       "    }\n",
       "\n",
       "    .dataframe thead th {\n",
       "        text-align: right;\n",
       "    }\n",
       "</style>\n",
       "<table border=\"1\" class=\"dataframe\">\n",
       "  <thead>\n",
       "    <tr style=\"text-align: right;\">\n",
       "      <th></th>\n",
       "      <th>Weekday</th>\n",
       "      <th>Meter In</th>\n",
       "      <th>Meter Out</th>\n",
       "      <th>Daily</th>\n",
       "    </tr>\n",
       "    <tr>\n",
       "      <th>Date</th>\n",
       "      <th></th>\n",
       "      <th></th>\n",
       "      <th></th>\n",
       "      <th></th>\n",
       "    </tr>\n",
       "  </thead>\n",
       "  <tbody>\n",
       "    <tr>\n",
       "      <th>2018-04-26</th>\n",
       "      <td>Thu</td>\n",
       "      <td>5910070.0</td>\n",
       "      <td>5911670.0</td>\n",
       "      <td>1600.0</td>\n",
       "    </tr>\n",
       "    <tr>\n",
       "      <th>2018-04-27</th>\n",
       "      <td>Fri</td>\n",
       "      <td>5911670.0</td>\n",
       "      <td>5913360.0</td>\n",
       "      <td>1690.0</td>\n",
       "    </tr>\n",
       "    <tr>\n",
       "      <th>2018-04-28</th>\n",
       "      <td>Sat</td>\n",
       "      <td>5913360.0</td>\n",
       "      <td>5915680.0</td>\n",
       "      <td>2320.0</td>\n",
       "    </tr>\n",
       "    <tr>\n",
       "      <th>2018-04-29</th>\n",
       "      <td>Sun</td>\n",
       "      <td>5915680.0</td>\n",
       "      <td>5918170.0</td>\n",
       "      <td>2490.0</td>\n",
       "    </tr>\n",
       "    <tr>\n",
       "      <th>2018-04-30</th>\n",
       "      <td>Mon</td>\n",
       "      <td>5918170.0</td>\n",
       "      <td>5919800.0</td>\n",
       "      <td>1630.0</td>\n",
       "    </tr>\n",
       "  </tbody>\n",
       "</table>\n",
       "</div>"
      ],
      "text/plain": [
       "           Weekday   Meter In  Meter Out   Daily\n",
       "Date                                            \n",
       "2018-04-26     Thu  5910070.0  5911670.0  1600.0\n",
       "2018-04-27     Fri  5911670.0  5913360.0  1690.0\n",
       "2018-04-28     Sat  5913360.0  5915680.0  2320.0\n",
       "2018-04-29     Sun  5915680.0  5918170.0  2490.0\n",
       "2018-04-30     Mon  5918170.0  5919800.0  1630.0"
      ]
     },
     "execution_count": 29,
     "metadata": {},
     "output_type": "execute_result"
    }
   ],
   "source": [
    "pre_meter_lucky.tail()"
   ]
  },
  {
   "cell_type": "code",
   "execution_count": 30,
   "id": "fafb90c2",
   "metadata": {},
   "outputs": [],
   "source": [
    "post_meter_lucky = daily_meter_lucky.loc['2018-05-01':]"
   ]
  },
  {
   "cell_type": "code",
   "execution_count": 31,
   "id": "f6432c78",
   "metadata": {
    "scrolled": true
   },
   "outputs": [],
   "source": [
    "daily_meter_lucky = pd.concat([pre_meter_lucky, post_meter_lucky], axis=0)"
   ]
  },
  {
   "cell_type": "code",
   "execution_count": 32,
   "id": "508d8ce5",
   "metadata": {},
   "outputs": [
    {
     "data": {
      "text/html": [
       "<div>\n",
       "<style scoped>\n",
       "    .dataframe tbody tr th:only-of-type {\n",
       "        vertical-align: middle;\n",
       "    }\n",
       "\n",
       "    .dataframe tbody tr th {\n",
       "        vertical-align: top;\n",
       "    }\n",
       "\n",
       "    .dataframe thead th {\n",
       "        text-align: right;\n",
       "    }\n",
       "</style>\n",
       "<table border=\"1\" class=\"dataframe\">\n",
       "  <thead>\n",
       "    <tr style=\"text-align: right;\">\n",
       "      <th></th>\n",
       "      <th>Weekday</th>\n",
       "      <th>Meter In</th>\n",
       "      <th>Meter Out</th>\n",
       "      <th>Daily</th>\n",
       "    </tr>\n",
       "    <tr>\n",
       "      <th>Date</th>\n",
       "      <th></th>\n",
       "      <th></th>\n",
       "      <th></th>\n",
       "      <th></th>\n",
       "    </tr>\n",
       "  </thead>\n",
       "  <tbody>\n",
       "    <tr>\n",
       "      <th>2008-01-31</th>\n",
       "      <td>Thu</td>\n",
       "      <td>NaN</td>\n",
       "      <td>3560600.0</td>\n",
       "      <td>NaN</td>\n",
       "    </tr>\n",
       "    <tr>\n",
       "      <th>2008-02-01</th>\n",
       "      <td>Fri</td>\n",
       "      <td>3560600.0</td>\n",
       "      <td>3561780.0</td>\n",
       "      <td>1180.0</td>\n",
       "    </tr>\n",
       "    <tr>\n",
       "      <th>2008-02-02</th>\n",
       "      <td>Sat</td>\n",
       "      <td>3561780.0</td>\n",
       "      <td>3563440.0</td>\n",
       "      <td>1660.0</td>\n",
       "    </tr>\n",
       "    <tr>\n",
       "      <th>2008-02-03</th>\n",
       "      <td>Sun</td>\n",
       "      <td>3563440.0</td>\n",
       "      <td>3565320.0</td>\n",
       "      <td>1880.0</td>\n",
       "    </tr>\n",
       "    <tr>\n",
       "      <th>2008-02-04</th>\n",
       "      <td>Mon</td>\n",
       "      <td>3565320.0</td>\n",
       "      <td>3566720.0</td>\n",
       "      <td>1400.0</td>\n",
       "    </tr>\n",
       "    <tr>\n",
       "      <th>...</th>\n",
       "      <td>...</td>\n",
       "      <td>...</td>\n",
       "      <td>...</td>\n",
       "      <td>...</td>\n",
       "    </tr>\n",
       "    <tr>\n",
       "      <th>2021-07-26</th>\n",
       "      <td>Mon</td>\n",
       "      <td>8070150.0</td>\n",
       "      <td>8071390.0</td>\n",
       "      <td>1240.0</td>\n",
       "    </tr>\n",
       "    <tr>\n",
       "      <th>2021-07-27</th>\n",
       "      <td>Tue</td>\n",
       "      <td>8072170.0</td>\n",
       "      <td>8074290.0</td>\n",
       "      <td>2120.0</td>\n",
       "    </tr>\n",
       "    <tr>\n",
       "      <th>2021-07-28</th>\n",
       "      <td>Wed</td>\n",
       "      <td>8074490.0</td>\n",
       "      <td>8076190.0</td>\n",
       "      <td>1700.0</td>\n",
       "    </tr>\n",
       "    <tr>\n",
       "      <th>2021-07-29</th>\n",
       "      <td>Thu</td>\n",
       "      <td>8076370.0</td>\n",
       "      <td>8077930.0</td>\n",
       "      <td>1560.0</td>\n",
       "    </tr>\n",
       "    <tr>\n",
       "      <th>2021-07-30</th>\n",
       "      <td>Fri</td>\n",
       "      <td>8078080.0</td>\n",
       "      <td>8079560.0</td>\n",
       "      <td>1480.0</td>\n",
       "    </tr>\n",
       "  </tbody>\n",
       "</table>\n",
       "<p>4931 rows × 4 columns</p>\n",
       "</div>"
      ],
      "text/plain": [
       "           Weekday   Meter In  Meter Out   Daily\n",
       "Date                                            \n",
       "2008-01-31     Thu        NaN  3560600.0     NaN\n",
       "2008-02-01     Fri  3560600.0  3561780.0  1180.0\n",
       "2008-02-02     Sat  3561780.0  3563440.0  1660.0\n",
       "2008-02-03     Sun  3563440.0  3565320.0  1880.0\n",
       "2008-02-04     Mon  3565320.0  3566720.0  1400.0\n",
       "...            ...        ...        ...     ...\n",
       "2021-07-26     Mon  8070150.0  8071390.0  1240.0\n",
       "2021-07-27     Tue  8072170.0  8074290.0  2120.0\n",
       "2021-07-28     Wed  8074490.0  8076190.0  1700.0\n",
       "2021-07-29     Thu  8076370.0  8077930.0  1560.0\n",
       "2021-07-30     Fri  8078080.0  8079560.0  1480.0\n",
       "\n",
       "[4931 rows x 4 columns]"
      ]
     },
     "execution_count": 32,
     "metadata": {},
     "output_type": "execute_result"
    }
   ],
   "source": [
    "daily_meter_lucky['Daily'] = daily_meter_lucky['Meter Out'] - daily_meter_lucky['Meter In']\n",
    "daily_meter_lucky"
   ]
  },
  {
   "cell_type": "code",
   "execution_count": 33,
   "id": "d24afeb7",
   "metadata": {},
   "outputs": [],
   "source": [
    "daily_meter_lucky = daily_meter_lucky[1:]"
   ]
  },
  {
   "cell_type": "code",
   "execution_count": 42,
   "id": "82f59f78",
   "metadata": {},
   "outputs": [
    {
     "data": {
      "text/plain": [
       "<AxesSubplot:xlabel='Date'>"
      ]
     },
     "execution_count": 42,
     "metadata": {},
     "output_type": "execute_result"
    },
    {
     "data": {
      "image/png": "[encoded data removed]",
      "text/plain": [
       "<Figure size 864x576 with 1 Axes>"
      ]
     },
     "metadata": {},
     "output_type": "display_data"
    }
   ],
   "source": [
    "daily_meter_lucky['Daily'].plot(figsize=(12,8))"
   ]
  },
  {
   "cell_type": "code",
   "execution_count": 34,
   "id": "6f17ca93",
   "metadata": {},
   "outputs": [
    {
     "data": {
      "text/plain": [
       "Date\n",
       "2018-05-26    5160.0\n",
       "2020-04-12    9140.0\n",
       "2020-09-09    6120.0\n",
       "Name: Daily, dtype: float64"
      ]
     },
     "execution_count": 34,
     "metadata": {},
     "output_type": "execute_result"
    }
   ],
   "source": [
    "daily_meter_lucky['Daily'][daily_meter_lucky['Daily'] > 5000]"
   ]
  },
  {
   "cell_type": "markdown",
   "id": "5acaac79",
   "metadata": {},
   "source": [
    "## Predicted Water Revenue"
   ]
  },
  {
   "cell_type": "code",
   "execution_count": 35,
   "id": "be5a0554",
   "metadata": {},
   "outputs": [],
   "source": [
    "daily_meter_lucky['Predicted Water Revenue'] = 0\n",
    "daily_meter_lucky['Predicted Water Revenue'].loc[:'2015-03-31'] = daily_meter_lucky['Daily'].loc[:'2015-03-31']*0.25\n",
    "daily_meter_lucky['Predicted Water Revenue'].loc['2015-04-01':'2018-02-28'] = daily_meter_lucky['Daily'].loc['2015-04-01':'2018-02-28']*0.3\n",
    "daily_meter_lucky['Predicted Water Revenue'].loc['2018-02-28':] = daily_meter_lucky['Daily'].loc['2018-02-28':]*0.35"
   ]
  },
  {
   "cell_type": "code",
   "execution_count": 36,
   "id": "06e4d1b4",
   "metadata": {
    "scrolled": false
   },
   "outputs": [
    {
     "data": {
      "text/plain": [
       "<AxesSubplot:xlabel='Date'>"
      ]
     },
     "execution_count": 36,
     "metadata": {},
     "output_type": "execute_result"
    },
    {
     "data": {
      "image/png": "[encoded data removed]",
      "text/plain": [
       "<Figure size 864x576 with 1 Axes>"
      ]
     },
     "metadata": {},
     "output_type": "display_data"
    }
   ],
   "source": [
    "daily_meter_lucky['Predicted Water Revenue'].plot(figsize=(12,8))"
   ]
  },
  {
   "cell_type": "code",
   "execution_count": 45,
   "id": "f66a81ce",
   "metadata": {},
   "outputs": [
    {
     "data": {
      "text/plain": [
       "Text(0.5, 0, 'Date')"
      ]
     },
     "execution_count": 45,
     "metadata": {},
     "output_type": "execute_result"
    },
    {
     "data": {
      "image/png": "[encoded data removed]",
      "text/plain": [
       "<Figure size 864x576 with 1 Axes>"
      ]
     },
     "metadata": {},
     "output_type": "display_data"
    }
   ],
   "source": [
    "ax = daily_meter_lucky['Daily'].resample('MS').mean().plot(figsize=(12,8))\n",
    "ax.set_title('Average Gallons Per Month', fontsize=20)\n",
    "ax.set_ylabel('Gallons', fontsize=15)\n",
    "ax.set_xlabel('Date',fontsize=15)"
   ]
  },
  {
   "cell_type": "code",
   "execution_count": 46,
   "id": "89f77427",
   "metadata": {},
   "outputs": [
    {
     "data": {
      "text/plain": [
       "Text(21.200000000000003, 0.5, 'Dollars')"
      ]
     },
     "execution_count": 46,
     "metadata": {},
     "output_type": "execute_result"
    },
    {
     "data": {
      "image/png": "[encoded data removed]",
      "text/plain": [
       "<Figure size 864x576 with 1 Axes>"
      ]
     },
     "metadata": {},
     "output_type": "display_data"
    }
   ],
   "source": [
    "daily_meter_lucky['Predicted Water Revenue'].resample('MS').mean().plot(figsize=(12,8))\n",
    "ax.set_title('Average Predicted Water Revenue Per Month')\n",
    "ax.set_ylabel('Dollars')"
   ]
  },
  {
   "cell_type": "code",
   "execution_count": 47,
   "id": "918a293a",
   "metadata": {
    "scrolled": false
   },
   "outputs": [
    {
     "data": {
      "text/html": [
       "<div>\n",
       "<style scoped>\n",
       "    .dataframe tbody tr th:only-of-type {\n",
       "        vertical-align: middle;\n",
       "    }\n",
       "\n",
       "    .dataframe tbody tr th {\n",
       "        vertical-align: top;\n",
       "    }\n",
       "\n",
       "    .dataframe thead th {\n",
       "        text-align: right;\n",
       "    }\n",
       "</style>\n",
       "<table border=\"1\" class=\"dataframe\">\n",
       "  <thead>\n",
       "    <tr style=\"text-align: right;\">\n",
       "      <th></th>\n",
       "      <th>Predicted Water Revenue</th>\n",
       "    </tr>\n",
       "    <tr>\n",
       "      <th>Date</th>\n",
       "      <th></th>\n",
       "    </tr>\n",
       "  </thead>\n",
       "  <tbody>\n",
       "    <tr>\n",
       "      <th>2008-02-01</th>\n",
       "      <td>295.0</td>\n",
       "    </tr>\n",
       "    <tr>\n",
       "      <th>2008-02-02</th>\n",
       "      <td>415.0</td>\n",
       "    </tr>\n",
       "    <tr>\n",
       "      <th>2008-02-03</th>\n",
       "      <td>470.0</td>\n",
       "    </tr>\n",
       "    <tr>\n",
       "      <th>2008-02-04</th>\n",
       "      <td>350.0</td>\n",
       "    </tr>\n",
       "    <tr>\n",
       "      <th>2008-02-05</th>\n",
       "      <td>322.5</td>\n",
       "    </tr>\n",
       "    <tr>\n",
       "      <th>...</th>\n",
       "      <td>...</td>\n",
       "    </tr>\n",
       "    <tr>\n",
       "      <th>2021-07-26</th>\n",
       "      <td>434.0</td>\n",
       "    </tr>\n",
       "    <tr>\n",
       "      <th>2021-07-27</th>\n",
       "      <td>742.0</td>\n",
       "    </tr>\n",
       "    <tr>\n",
       "      <th>2021-07-28</th>\n",
       "      <td>595.0</td>\n",
       "    </tr>\n",
       "    <tr>\n",
       "      <th>2021-07-29</th>\n",
       "      <td>546.0</td>\n",
       "    </tr>\n",
       "    <tr>\n",
       "      <th>2021-07-30</th>\n",
       "      <td>518.0</td>\n",
       "    </tr>\n",
       "  </tbody>\n",
       "</table>\n",
       "<p>4930 rows × 1 columns</p>\n",
       "</div>"
      ],
      "text/plain": [
       "            Predicted Water Revenue\n",
       "Date                               \n",
       "2008-02-01                    295.0\n",
       "2008-02-02                    415.0\n",
       "2008-02-03                    470.0\n",
       "2008-02-04                    350.0\n",
       "2008-02-05                    322.5\n",
       "...                             ...\n",
       "2021-07-26                    434.0\n",
       "2021-07-27                    742.0\n",
       "2021-07-28                    595.0\n",
       "2021-07-29                    546.0\n",
       "2021-07-30                    518.0\n",
       "\n",
       "[4930 rows x 1 columns]"
      ]
     },
     "execution_count": 47,
     "metadata": {},
     "output_type": "execute_result"
    }
   ],
   "source": [
    "daily_meter_lucky[['Predicted Water Revenue']]"
   ]
  },
  {
   "cell_type": "code",
   "execution_count": 38,
   "id": "93bc190e",
   "metadata": {},
   "outputs": [],
   "source": [
    "daily_meter_lucky = daily_meter_lucky.dropna()\n",
    "daily_meter_lucky = daily_meter_lucky.resample('D').sum().fillna(0)"
   ]
  },
  {
   "cell_type": "markdown",
   "id": "0b4931c1",
   "metadata": {},
   "source": [
    "## FM meter_lucky Data"
   ]
  },
  {
   "cell_type": "code",
   "execution_count": 40,
   "id": "e5d6393f",
   "metadata": {},
   "outputs": [],
   "source": [
    "meter_fm = pd.read_excel('../Water Daily Sales/Raw Data/Year 2021/TwoStore_DailySale Jun-21.xlsx', sheet_name='Meter_FM', index_col='Date', parse_dates=True)"
   ]
  },
  {
   "cell_type": "code",
   "execution_count": 41,
   "id": "a6d28614",
   "metadata": {},
   "outputs": [],
   "source": [
    "missing = meter_fm.isnull().sum()/len(meter_fm)*100\n",
    "missing = missing.drop(missing[missing==0].index).sort_values(ascending=False)\n",
    "missing_values = pd.DataFrame({'Missing Ratio':missing})"
   ]
  },
  {
   "cell_type": "code",
   "execution_count": 42,
   "id": "cc94fff8",
   "metadata": {},
   "outputs": [
    {
     "data": {
      "text/plain": [
       "Index(['Unnamed: 0', 'Meter D', 'Meter N', 'Daily ', 'Daily AVG', 'Month AVG',\n",
       "       'Actual', 'YTD DailyAVG', 'MOM', 'MoM%', 'V1', 'V2', 'V3', 'V4',\n",
       "       'Total V', 'V Sales', 'V $$$', 'AVG per day', 'MoM%.1', 'GPD vending',\n",
       "       'GPD total', '% vending/inside', 'Unnamed: 23'],\n",
       "      dtype='object')"
      ]
     },
     "execution_count": 42,
     "metadata": {},
     "output_type": "execute_result"
    }
   ],
   "source": [
    "meter_fm.columns"
   ]
  },
  {
   "cell_type": "code",
   "execution_count": 43,
   "id": "33a79d67",
   "metadata": {},
   "outputs": [],
   "source": [
    "rename = {'Unnamed: 0': 'Weekday', 'Meter D':'Meter In', 'Meter N':'Meter Out', 'Daily ':'Daily'}\n",
    "meter_fm = meter_fm.rename(columns=rename)"
   ]
  },
  {
   "cell_type": "code",
   "execution_count": 44,
   "id": "100ee1b5",
   "metadata": {},
   "outputs": [],
   "source": [
    "meter_fm.index.freq='D'"
   ]
  },
  {
   "cell_type": "code",
   "execution_count": 45,
   "id": "9a1af6d9",
   "metadata": {},
   "outputs": [],
   "source": [
    "meter_fm['Weekday'] = meter_fm.index.day_name()\n",
    "meter_fm['Weekday'] = meter_fm['Weekday'].apply(lambda x: x[:3])"
   ]
  },
  {
   "cell_type": "code",
   "execution_count": 46,
   "id": "3fb4e074",
   "metadata": {},
   "outputs": [
    {
     "data": {
      "text/html": [
       "<div>\n",
       "<style scoped>\n",
       "    .dataframe tbody tr th:only-of-type {\n",
       "        vertical-align: middle;\n",
       "    }\n",
       "\n",
       "    .dataframe tbody tr th {\n",
       "        vertical-align: top;\n",
       "    }\n",
       "\n",
       "    .dataframe thead th {\n",
       "        text-align: right;\n",
       "    }\n",
       "</style>\n",
       "<table border=\"1\" class=\"dataframe\">\n",
       "  <thead>\n",
       "    <tr style=\"text-align: right;\">\n",
       "      <th></th>\n",
       "      <th>Weekday</th>\n",
       "      <th>Meter In</th>\n",
       "      <th>Meter Out</th>\n",
       "      <th>Daily</th>\n",
       "      <th>Daily AVG</th>\n",
       "      <th>Month AVG</th>\n",
       "      <th>Actual</th>\n",
       "      <th>YTD DailyAVG</th>\n",
       "      <th>MOM</th>\n",
       "      <th>MoM%</th>\n",
       "      <th>V1</th>\n",
       "      <th>V2</th>\n",
       "      <th>V3</th>\n",
       "      <th>V4</th>\n",
       "      <th>Total V</th>\n",
       "      <th>V Sales</th>\n",
       "      <th>V $$$</th>\n",
       "      <th>AVG per day</th>\n",
       "      <th>MoM%.1</th>\n",
       "      <th>GPD vending</th>\n",
       "      <th>GPD total</th>\n",
       "      <th>% vending/inside</th>\n",
       "      <th>Unnamed: 23</th>\n",
       "    </tr>\n",
       "    <tr>\n",
       "      <th>Date</th>\n",
       "      <th></th>\n",
       "      <th></th>\n",
       "      <th></th>\n",
       "      <th></th>\n",
       "      <th></th>\n",
       "      <th></th>\n",
       "      <th></th>\n",
       "      <th></th>\n",
       "      <th></th>\n",
       "      <th></th>\n",
       "      <th></th>\n",
       "      <th></th>\n",
       "      <th></th>\n",
       "      <th></th>\n",
       "      <th></th>\n",
       "      <th></th>\n",
       "      <th></th>\n",
       "      <th></th>\n",
       "      <th></th>\n",
       "      <th></th>\n",
       "      <th></th>\n",
       "      <th></th>\n",
       "      <th></th>\n",
       "    </tr>\n",
       "  </thead>\n",
       "  <tbody>\n",
       "    <tr>\n",
       "      <th>2010-02-14</th>\n",
       "      <td>Sun</td>\n",
       "      <td>171890.0</td>\n",
       "      <td>NaN</td>\n",
       "      <td>0.0</td>\n",
       "      <td>NaN</td>\n",
       "      <td>0.0</td>\n",
       "      <td>NaN</td>\n",
       "      <td>2.500000</td>\n",
       "      <td>NaN</td>\n",
       "      <td>NaN</td>\n",
       "      <td>72850.0</td>\n",
       "      <td>90320.0</td>\n",
       "      <td>NaN</td>\n",
       "      <td>NaN</td>\n",
       "      <td>163170.0</td>\n",
       "      <td>NaN</td>\n",
       "      <td>NaN</td>\n",
       "      <td>NaN</td>\n",
       "      <td>NaN</td>\n",
       "      <td>NaN</td>\n",
       "      <td>NaN</td>\n",
       "      <td>NaN</td>\n",
       "      <td>NaN</td>\n",
       "    </tr>\n",
       "    <tr>\n",
       "      <th>2010-02-15</th>\n",
       "      <td>Mon</td>\n",
       "      <td>171895.0</td>\n",
       "      <td>NaN</td>\n",
       "      <td>5.0</td>\n",
       "      <td>NaN</td>\n",
       "      <td>0.0</td>\n",
       "      <td>NaN</td>\n",
       "      <td>2.500000</td>\n",
       "      <td>NaN</td>\n",
       "      <td>NaN</td>\n",
       "      <td>NaN</td>\n",
       "      <td>NaN</td>\n",
       "      <td>NaN</td>\n",
       "      <td>NaN</td>\n",
       "      <td>NaN</td>\n",
       "      <td>NaN</td>\n",
       "      <td>NaN</td>\n",
       "      <td>NaN</td>\n",
       "      <td>NaN</td>\n",
       "      <td>NaN</td>\n",
       "      <td>NaN</td>\n",
       "      <td>NaN</td>\n",
       "      <td>NaN</td>\n",
       "    </tr>\n",
       "    <tr>\n",
       "      <th>2010-02-16</th>\n",
       "      <td>Tue</td>\n",
       "      <td>174568.0</td>\n",
       "      <td>NaN</td>\n",
       "      <td>NaN</td>\n",
       "      <td>NaN</td>\n",
       "      <td>NaN</td>\n",
       "      <td>NaN</td>\n",
       "      <td>2.500000</td>\n",
       "      <td>NaN</td>\n",
       "      <td>NaN</td>\n",
       "      <td>NaN</td>\n",
       "      <td>NaN</td>\n",
       "      <td>NaN</td>\n",
       "      <td>NaN</td>\n",
       "      <td>NaN</td>\n",
       "      <td>NaN</td>\n",
       "      <td>NaN</td>\n",
       "      <td>NaN</td>\n",
       "      <td>NaN</td>\n",
       "      <td>NaN</td>\n",
       "      <td>NaN</td>\n",
       "      <td>NaN</td>\n",
       "      <td>NaN</td>\n",
       "    </tr>\n",
       "    <tr>\n",
       "      <th>2010-02-17</th>\n",
       "      <td>Wed</td>\n",
       "      <td>175800.0</td>\n",
       "      <td>NaN</td>\n",
       "      <td>NaN</td>\n",
       "      <td>NaN</td>\n",
       "      <td>NaN</td>\n",
       "      <td>NaN</td>\n",
       "      <td>38.333333</td>\n",
       "      <td>NaN</td>\n",
       "      <td>NaN</td>\n",
       "      <td>72890.0</td>\n",
       "      <td>90360.0</td>\n",
       "      <td>NaN</td>\n",
       "      <td>NaN</td>\n",
       "      <td>163250.0</td>\n",
       "      <td>80.0</td>\n",
       "      <td>20.0</td>\n",
       "      <td>NaN</td>\n",
       "      <td>NaN</td>\n",
       "      <td>NaN</td>\n",
       "      <td>NaN</td>\n",
       "      <td>NaN</td>\n",
       "      <td>NaN</td>\n",
       "    </tr>\n",
       "    <tr>\n",
       "      <th>2010-02-18</th>\n",
       "      <td>Thu</td>\n",
       "      <td>177800.0</td>\n",
       "      <td>177910.0</td>\n",
       "      <td>110.0</td>\n",
       "      <td>NaN</td>\n",
       "      <td>NaN</td>\n",
       "      <td>NaN</td>\n",
       "      <td>41.250000</td>\n",
       "      <td>NaN</td>\n",
       "      <td>NaN</td>\n",
       "      <td>NaN</td>\n",
       "      <td>NaN</td>\n",
       "      <td>NaN</td>\n",
       "      <td>NaN</td>\n",
       "      <td>NaN</td>\n",
       "      <td>NaN</td>\n",
       "      <td>NaN</td>\n",
       "      <td>NaN</td>\n",
       "      <td>NaN</td>\n",
       "      <td>NaN</td>\n",
       "      <td>NaN</td>\n",
       "      <td>NaN</td>\n",
       "      <td>NaN</td>\n",
       "    </tr>\n",
       "  </tbody>\n",
       "</table>\n",
       "</div>"
      ],
      "text/plain": [
       "           Weekday  Meter In  Meter Out  Daily  Daily AVG  Month AVG  Actual  \\\n",
       "Date                                                                           \n",
       "2010-02-14     Sun  171890.0        NaN    0.0        NaN        0.0     NaN   \n",
       "2010-02-15     Mon  171895.0        NaN    5.0        NaN        0.0     NaN   \n",
       "2010-02-16     Tue  174568.0        NaN    NaN        NaN        NaN     NaN   \n",
       "2010-02-17     Wed  175800.0        NaN    NaN        NaN        NaN     NaN   \n",
       "2010-02-18     Thu  177800.0   177910.0  110.0        NaN        NaN     NaN   \n",
       "\n",
       "            YTD DailyAVG  MOM  MoM%       V1       V2  V3  V4   Total V  \\\n",
       "Date                                                                      \n",
       "2010-02-14      2.500000  NaN   NaN  72850.0  90320.0 NaN NaN  163170.0   \n",
       "2010-02-15      2.500000  NaN   NaN      NaN      NaN NaN NaN       NaN   \n",
       "2010-02-16      2.500000  NaN   NaN      NaN      NaN NaN NaN       NaN   \n",
       "2010-02-17     38.333333  NaN   NaN  72890.0  90360.0 NaN NaN  163250.0   \n",
       "2010-02-18     41.250000  NaN   NaN      NaN      NaN NaN NaN       NaN   \n",
       "\n",
       "            V Sales  V $$$  AVG per day  MoM%.1 GPD vending  GPD total  \\\n",
       "Date                                                                     \n",
       "2010-02-14      NaN    NaN          NaN     NaN         NaN        NaN   \n",
       "2010-02-15      NaN    NaN          NaN     NaN         NaN        NaN   \n",
       "2010-02-16      NaN    NaN          NaN     NaN         NaN        NaN   \n",
       "2010-02-17     80.0   20.0          NaN     NaN         NaN        NaN   \n",
       "2010-02-18      NaN    NaN          NaN     NaN         NaN        NaN   \n",
       "\n",
       "            % vending/inside  Unnamed: 23  \n",
       "Date                                       \n",
       "2010-02-14               NaN          NaN  \n",
       "2010-02-15               NaN          NaN  \n",
       "2010-02-16               NaN          NaN  \n",
       "2010-02-17               NaN          NaN  \n",
       "2010-02-18               NaN          NaN  "
      ]
     },
     "execution_count": 46,
     "metadata": {},
     "output_type": "execute_result"
    }
   ],
   "source": [
    "meter_fm.head()"
   ]
  },
  {
   "cell_type": "code",
   "execution_count": 47,
   "id": "0242eb54",
   "metadata": {},
   "outputs": [
    {
     "data": {
      "text/html": [
       "<div>\n",
       "<style scoped>\n",
       "    .dataframe tbody tr th:only-of-type {\n",
       "        vertical-align: middle;\n",
       "    }\n",
       "\n",
       "    .dataframe tbody tr th {\n",
       "        vertical-align: top;\n",
       "    }\n",
       "\n",
       "    .dataframe thead th {\n",
       "        text-align: right;\n",
       "    }\n",
       "</style>\n",
       "<table border=\"1\" class=\"dataframe\">\n",
       "  <thead>\n",
       "    <tr style=\"text-align: right;\">\n",
       "      <th></th>\n",
       "      <th>Weekday</th>\n",
       "      <th>Meter In</th>\n",
       "      <th>Meter Out</th>\n",
       "      <th>Daily</th>\n",
       "    </tr>\n",
       "    <tr>\n",
       "      <th>Date</th>\n",
       "      <th></th>\n",
       "      <th></th>\n",
       "      <th></th>\n",
       "      <th></th>\n",
       "    </tr>\n",
       "  </thead>\n",
       "  <tbody>\n",
       "    <tr>\n",
       "      <th>2021-07-28</th>\n",
       "      <td>Wed</td>\n",
       "      <td>6728050.0</td>\n",
       "      <td>6729590.0</td>\n",
       "      <td>1540.0</td>\n",
       "    </tr>\n",
       "    <tr>\n",
       "      <th>2021-07-29</th>\n",
       "      <td>Thu</td>\n",
       "      <td>6729780.0</td>\n",
       "      <td>6730990.0</td>\n",
       "      <td>1210.0</td>\n",
       "    </tr>\n",
       "    <tr>\n",
       "      <th>2021-07-30</th>\n",
       "      <td>Fri</td>\n",
       "      <td>6731130.0</td>\n",
       "      <td>6732800.0</td>\n",
       "      <td>1670.0</td>\n",
       "    </tr>\n",
       "    <tr>\n",
       "      <th>2021-07-31</th>\n",
       "      <td>Sat</td>\n",
       "      <td>0.0</td>\n",
       "      <td>0.0</td>\n",
       "      <td>0.0</td>\n",
       "    </tr>\n",
       "    <tr>\n",
       "      <th>2021-08-01</th>\n",
       "      <td>Sun</td>\n",
       "      <td>NaN</td>\n",
       "      <td>NaN</td>\n",
       "      <td>NaN</td>\n",
       "    </tr>\n",
       "  </tbody>\n",
       "</table>\n",
       "</div>"
      ],
      "text/plain": [
       "           Weekday   Meter In  Meter Out   Daily\n",
       "Date                                            \n",
       "2021-07-28     Wed  6728050.0  6729590.0  1540.0\n",
       "2021-07-29     Thu  6729780.0  6730990.0  1210.0\n",
       "2021-07-30     Fri  6731130.0  6732800.0  1670.0\n",
       "2021-07-31     Sat        0.0        0.0     0.0\n",
       "2021-08-01     Sun        NaN        NaN     NaN"
      ]
     },
     "execution_count": 47,
     "metadata": {},
     "output_type": "execute_result"
    }
   ],
   "source": [
    "daily_meter_fm = meter_fm[['Weekday', 'Meter In', 'Meter Out', 'Daily']]\n",
    "daily_meter_fm.tail()"
   ]
  },
  {
   "cell_type": "code",
   "execution_count": 48,
   "id": "dee38e4c",
   "metadata": {},
   "outputs": [],
   "source": [
    "daily_meter_fm = daily_meter_fm[4:-2]"
   ]
  },
  {
   "cell_type": "code",
   "execution_count": 49,
   "id": "fdbeb41c",
   "metadata": {},
   "outputs": [
    {
     "data": {
      "text/plain": [
       "<AxesSubplot:xlabel='Date'>"
      ]
     },
     "execution_count": 49,
     "metadata": {},
     "output_type": "execute_result"
    },
    {
     "data": {
      "image/png": "[encoded data removed]",
      "text/plain": [
       "<Figure size 432x288 with 1 Axes>"
      ]
     },
     "metadata": {},
     "output_type": "display_data"
    }
   ],
   "source": [
    "daily_meter_fm['Daily'].plot()"
   ]
  },
  {
   "cell_type": "code",
   "execution_count": 50,
   "id": "2da40b2f",
   "metadata": {},
   "outputs": [
    {
     "data": {
      "text/plain": [
       "Date\n",
       "2021-07-04   -6683690.0\n",
       "2021-07-25    3001740.0\n",
       "Name: Daily, dtype: float64"
      ]
     },
     "execution_count": 50,
     "metadata": {},
     "output_type": "execute_result"
    }
   ],
   "source": [
    "daily_meter_fm['Daily'][(daily_meter_fm['Daily'] < 0) | (daily_meter_fm['Daily'] > 5000)]"
   ]
  },
  {
   "cell_type": "code",
   "execution_count": 51,
   "id": "15e452f8",
   "metadata": {},
   "outputs": [
    {
     "data": {
      "text/html": [
       "<div>\n",
       "<style scoped>\n",
       "    .dataframe tbody tr th:only-of-type {\n",
       "        vertical-align: middle;\n",
       "    }\n",
       "\n",
       "    .dataframe tbody tr th {\n",
       "        vertical-align: top;\n",
       "    }\n",
       "\n",
       "    .dataframe thead th {\n",
       "        text-align: right;\n",
       "    }\n",
       "</style>\n",
       "<table border=\"1\" class=\"dataframe\">\n",
       "  <thead>\n",
       "    <tr style=\"text-align: right;\">\n",
       "      <th></th>\n",
       "      <th>Weekday</th>\n",
       "      <th>Meter In</th>\n",
       "      <th>Meter Out</th>\n",
       "      <th>Daily</th>\n",
       "    </tr>\n",
       "    <tr>\n",
       "      <th>Date</th>\n",
       "      <th></th>\n",
       "      <th></th>\n",
       "      <th></th>\n",
       "      <th></th>\n",
       "    </tr>\n",
       "  </thead>\n",
       "  <tbody>\n",
       "    <tr>\n",
       "      <th>2021-07-01</th>\n",
       "      <td>Thu</td>\n",
       "      <td>6677720.0</td>\n",
       "      <td>6679890.0</td>\n",
       "      <td>2170.0</td>\n",
       "    </tr>\n",
       "    <tr>\n",
       "      <th>2021-07-02</th>\n",
       "      <td>Fri</td>\n",
       "      <td>6680060.0</td>\n",
       "      <td>6681720.0</td>\n",
       "      <td>1660.0</td>\n",
       "    </tr>\n",
       "    <tr>\n",
       "      <th>2021-07-03</th>\n",
       "      <td>Sat</td>\n",
       "      <td>6681870.0</td>\n",
       "      <td>6683530.0</td>\n",
       "      <td>1660.0</td>\n",
       "    </tr>\n",
       "    <tr>\n",
       "      <th>2021-07-04</th>\n",
       "      <td>Sun</td>\n",
       "      <td>6683690.0</td>\n",
       "      <td>0.0</td>\n",
       "      <td>-6683690.0</td>\n",
       "    </tr>\n",
       "    <tr>\n",
       "      <th>2021-07-05</th>\n",
       "      <td>Mon</td>\n",
       "      <td>6685080.0</td>\n",
       "      <td>6687050.0</td>\n",
       "      <td>1970.0</td>\n",
       "    </tr>\n",
       "    <tr>\n",
       "      <th>2021-07-06</th>\n",
       "      <td>Tue</td>\n",
       "      <td>6687150.0</td>\n",
       "      <td>6689260.0</td>\n",
       "      <td>2110.0</td>\n",
       "    </tr>\n",
       "    <tr>\n",
       "      <th>2021-07-07</th>\n",
       "      <td>Wed</td>\n",
       "      <td>6689440.0</td>\n",
       "      <td>6691090.0</td>\n",
       "      <td>1650.0</td>\n",
       "    </tr>\n",
       "  </tbody>\n",
       "</table>\n",
       "</div>"
      ],
      "text/plain": [
       "           Weekday   Meter In  Meter Out      Daily\n",
       "Date                                               \n",
       "2021-07-01     Thu  6677720.0  6679890.0     2170.0\n",
       "2021-07-02     Fri  6680060.0  6681720.0     1660.0\n",
       "2021-07-03     Sat  6681870.0  6683530.0     1660.0\n",
       "2021-07-04     Sun  6683690.0        0.0 -6683690.0\n",
       "2021-07-05     Mon  6685080.0  6687050.0     1970.0\n",
       "2021-07-06     Tue  6687150.0  6689260.0     2110.0\n",
       "2021-07-07     Wed  6689440.0  6691090.0     1650.0"
      ]
     },
     "execution_count": 51,
     "metadata": {},
     "output_type": "execute_result"
    }
   ],
   "source": [
    "daily_meter_fm.loc['2021-07-01':'2021-07-7']"
   ]
  },
  {
   "cell_type": "code",
   "execution_count": 52,
   "id": "ea0c2d0c",
   "metadata": {},
   "outputs": [
    {
     "data": {
      "text/plain": [
       "1560.0"
      ]
     },
     "execution_count": 52,
     "metadata": {},
     "output_type": "execute_result"
    }
   ],
   "source": [
    "daily_meter_fm['Daily'].loc['2018-07-01':'2018-07-31'].median()"
   ]
  },
  {
   "cell_type": "code",
   "execution_count": 53,
   "id": "0dc0df40",
   "metadata": {},
   "outputs": [],
   "source": [
    "daily_meter_fm['Meter Out'].loc['2021-07-04'] = 6685250.0"
   ]
  },
  {
   "cell_type": "code",
   "execution_count": 54,
   "id": "07c6c798",
   "metadata": {},
   "outputs": [
    {
     "data": {
      "text/html": [
       "<div>\n",
       "<style scoped>\n",
       "    .dataframe tbody tr th:only-of-type {\n",
       "        vertical-align: middle;\n",
       "    }\n",
       "\n",
       "    .dataframe tbody tr th {\n",
       "        vertical-align: top;\n",
       "    }\n",
       "\n",
       "    .dataframe thead th {\n",
       "        text-align: right;\n",
       "    }\n",
       "</style>\n",
       "<table border=\"1\" class=\"dataframe\">\n",
       "  <thead>\n",
       "    <tr style=\"text-align: right;\">\n",
       "      <th></th>\n",
       "      <th>Weekday</th>\n",
       "      <th>Meter In</th>\n",
       "      <th>Meter Out</th>\n",
       "      <th>Daily</th>\n",
       "    </tr>\n",
       "    <tr>\n",
       "      <th>Date</th>\n",
       "      <th></th>\n",
       "      <th></th>\n",
       "      <th></th>\n",
       "      <th></th>\n",
       "    </tr>\n",
       "  </thead>\n",
       "  <tbody>\n",
       "    <tr>\n",
       "      <th>2021-07-22</th>\n",
       "      <td>Thu</td>\n",
       "      <td>6716840.0</td>\n",
       "      <td>6718620.0</td>\n",
       "      <td>1780.0</td>\n",
       "    </tr>\n",
       "    <tr>\n",
       "      <th>2021-07-23</th>\n",
       "      <td>Fri</td>\n",
       "      <td>6718760.0</td>\n",
       "      <td>6720070.0</td>\n",
       "      <td>1310.0</td>\n",
       "    </tr>\n",
       "    <tr>\n",
       "      <th>2021-07-24</th>\n",
       "      <td>Sat</td>\n",
       "      <td>6720170.0</td>\n",
       "      <td>6721690.0</td>\n",
       "      <td>1520.0</td>\n",
       "    </tr>\n",
       "    <tr>\n",
       "      <th>2021-07-25</th>\n",
       "      <td>Sun</td>\n",
       "      <td>3721820.0</td>\n",
       "      <td>6723560.0</td>\n",
       "      <td>3001740.0</td>\n",
       "    </tr>\n",
       "    <tr>\n",
       "      <th>2021-07-26</th>\n",
       "      <td>Mon</td>\n",
       "      <td>6723750.0</td>\n",
       "      <td>6725620.0</td>\n",
       "      <td>1870.0</td>\n",
       "    </tr>\n",
       "    <tr>\n",
       "      <th>2021-07-27</th>\n",
       "      <td>Tue</td>\n",
       "      <td>6725780.0</td>\n",
       "      <td>6727860.0</td>\n",
       "      <td>2080.0</td>\n",
       "    </tr>\n",
       "    <tr>\n",
       "      <th>2021-07-28</th>\n",
       "      <td>Wed</td>\n",
       "      <td>6728050.0</td>\n",
       "      <td>6729590.0</td>\n",
       "      <td>1540.0</td>\n",
       "    </tr>\n",
       "  </tbody>\n",
       "</table>\n",
       "</div>"
      ],
      "text/plain": [
       "           Weekday   Meter In  Meter Out      Daily\n",
       "Date                                               \n",
       "2021-07-22     Thu  6716840.0  6718620.0     1780.0\n",
       "2021-07-23     Fri  6718760.0  6720070.0     1310.0\n",
       "2021-07-24     Sat  6720170.0  6721690.0     1520.0\n",
       "2021-07-25     Sun  3721820.0  6723560.0  3001740.0\n",
       "2021-07-26     Mon  6723750.0  6725620.0     1870.0\n",
       "2021-07-27     Tue  6725780.0  6727860.0     2080.0\n",
       "2021-07-28     Wed  6728050.0  6729590.0     1540.0"
      ]
     },
     "execution_count": 54,
     "metadata": {},
     "output_type": "execute_result"
    }
   ],
   "source": [
    "daily_meter_fm.loc['2021-07-22':'2021-07-28']"
   ]
  },
  {
   "cell_type": "code",
   "execution_count": 55,
   "id": "dd667636",
   "metadata": {},
   "outputs": [],
   "source": [
    "daily_meter_fm['Meter In'].loc['2021-07-25'] = 6721820.0"
   ]
  },
  {
   "cell_type": "code",
   "execution_count": 56,
   "id": "b8200e80",
   "metadata": {},
   "outputs": [],
   "source": [
    "daily_meter_fm['Daily'] = daily_meter_fm['Meter Out'] - daily_meter_fm['Meter In']"
   ]
  },
  {
   "cell_type": "code",
   "execution_count": 57,
   "id": "e0ef4fe5",
   "metadata": {},
   "outputs": [],
   "source": [
    "daily_meter_fm = daily_meter_fm.dropna()\n",
    "daily_meter_fm = daily_meter_fm.resample('D').sum().fillna(0)"
   ]
  },
  {
   "cell_type": "code",
   "execution_count": 71,
   "id": "fa98082a",
   "metadata": {},
   "outputs": [
    {
     "data": {
      "text/plain": [
       "<AxesSubplot:xlabel='Date'>"
      ]
     },
     "execution_count": 71,
     "metadata": {},
     "output_type": "execute_result"
    },
    {
     "data": {
      "image/png": "[encoded data removed]",
      "text/plain": [
       "<Figure size 864x576 with 1 Axes>"
      ]
     },
     "metadata": {},
     "output_type": "display_data"
    }
   ],
   "source": [
    "daily_meter_fm['Daily'].plot(figsize=(12,8))"
   ]
  },
  {
   "cell_type": "code",
   "execution_count": 72,
   "id": "28975a63",
   "metadata": {},
   "outputs": [
    {
     "data": {
      "text/plain": [
       "Date\n",
       "2010-02-20    0.0\n",
       "2010-02-22    0.0\n",
       "2010-03-01    0.0\n",
       "2020-03-19    0.0\n",
       "2020-11-26    0.0\n",
       "2020-12-25    0.0\n",
       "Name: Daily, dtype: float64"
      ]
     },
     "execution_count": 72,
     "metadata": {},
     "output_type": "execute_result"
    }
   ],
   "source": [
    "daily_meter_fm['Daily'][daily_meter_fm['Daily'] == 0]"
   ]
  },
  {
   "cell_type": "code",
   "execution_count": 73,
   "id": "41107fdc",
   "metadata": {},
   "outputs": [
    {
     "data": {
      "text/plain": [
       "<AxesSubplot:xlabel='Date'>"
      ]
     },
     "execution_count": 73,
     "metadata": {},
     "output_type": "execute_result"
    },
    {
     "data": {
      "image/png": "[encoded data removed]",
      "text/plain": [
       "<Figure size 864x576 with 1 Axes>"
      ]
     },
     "metadata": {},
     "output_type": "display_data"
    }
   ],
   "source": [
    "daily_meter_fm['Daily'].resample('MS').mean().plot(figsize=(12,8))"
   ]
  },
  {
   "cell_type": "code",
   "execution_count": 74,
   "id": "57a3004e",
   "metadata": {
    "scrolled": false
   },
   "outputs": [
    {
     "data": {
      "text/plain": [
       "Text(0.5, 0, 'Date')"
      ]
     },
     "execution_count": 74,
     "metadata": {},
     "output_type": "execute_result"
    },
    {
     "data": {
      "image/png": "[encoded data removed]",
      "text/plain": [
       "<Figure size 864x576 with 1 Axes>"
      ]
     },
     "metadata": {},
     "output_type": "display_data"
    }
   ],
   "source": [
    "ax = daily_meter_fm['Daily'].plot(figsize=(12,8), legend=True)\n",
    "rolling = daily_meter_fm['Daily'].rolling(window=7).mean().rename('7 Day Moving Average')\n",
    "rolling.plot(figsize=(12,8), legend=True)\n",
    "ax.set_title('7 Day Moving Average for Water', fontsize=20)\n",
    "ax.set_ylabel('Gallons', fontsize=20)\n",
    "ax.set_xlabel('Date', fontsize=20)"
   ]
  },
  {
   "cell_type": "code",
   "execution_count": 75,
   "id": "714bb5a4",
   "metadata": {},
   "outputs": [
    {
     "data": {
      "text/plain": [
       "Text(0, 0.5, 'Dollars')"
      ]
     },
     "execution_count": 75,
     "metadata": {},
     "output_type": "execute_result"
    },
    {
     "data": {
      "image/png": "[encoded data removed]",
      "text/plain": [
       "<Figure size 864x576 with 1 Axes>"
      ]
     },
     "metadata": {},
     "output_type": "display_data"
    }
   ],
   "source": [
    "daily_meter_fm['Predicted Water Revenue'] = 0\n",
    "daily_meter_fm['Predicted Water Revenue'].loc[:'2015-03-31'] = daily_meter_fm['Daily'].loc[:'2015-03-31']*0.25\n",
    "daily_meter_fm['Predicted Water Revenue'].loc['2015-04-01':'2018-02-28'] = daily_meter_fm['Daily'].loc['2015-04-01':'2018-02-28']*0.3\n",
    "daily_meter_fm['Predicted Water Revenue'].loc['2018-02-28':] = daily_meter_fm['Daily'].loc['2018-02-28':]*0.35\n",
    "ax = daily_meter_fm['Predicted Water Revenue'].resample('M').mean().plot(figsize=(12,8))\n",
    "ax.set_title('Average Monthly Water Revenue', fontsize=20)\n",
    "ax.set_ylabel('Dollars')"
   ]
  },
  {
   "cell_type": "markdown",
   "id": "5a2d9d9a",
   "metadata": {},
   "source": [
    "### Vending Machine Data?"
   ]
  },
  {
   "cell_type": "code",
   "execution_count": 72,
   "id": "8b239883",
   "metadata": {},
   "outputs": [
    {
     "data": {
      "text/plain": [
       "Index(['Weekday', 'Meter In', 'Meter Out', 'Daily', 'Daily AVG', 'Month AVG',\n",
       "       'Actual', 'YTD DailyAVG', 'MOM', 'MoM%', 'V1', 'V2', 'V3', 'V4',\n",
       "       'Total V', 'V Sales', 'V $$$', 'AVG per day', 'MoM%.1', 'GPD vending',\n",
       "       'GPD total', '% vending/inside', 'Unnamed: 23'],\n",
       "      dtype='object')"
      ]
     },
     "execution_count": 72,
     "metadata": {},
     "output_type": "execute_result"
    }
   ],
   "source": [
    "meter_fm.columns"
   ]
  },
  {
   "cell_type": "code",
   "execution_count": 73,
   "id": "a8aa4354",
   "metadata": {},
   "outputs": [],
   "source": [
    "vending = meter_fm[['V1', 'V2', 'V3', 'V4','Total V', 'V Sales', 'V $$$', '% vending/inside']]"
   ]
  },
  {
   "cell_type": "code",
   "execution_count": 74,
   "id": "979411bd",
   "metadata": {},
   "outputs": [],
   "source": [
    "vending = vending[['V1', 'V2', 'V3', 'V4','Total V']].dropna(how='all')"
   ]
  },
  {
   "cell_type": "code",
   "execution_count": 75,
   "id": "71f935b5",
   "metadata": {
    "scrolled": false
   },
   "outputs": [
    {
     "data": {
      "text/html": [
       "<div>\n",
       "<style scoped>\n",
       "    .dataframe tbody tr th:only-of-type {\n",
       "        vertical-align: middle;\n",
       "    }\n",
       "\n",
       "    .dataframe tbody tr th {\n",
       "        vertical-align: top;\n",
       "    }\n",
       "\n",
       "    .dataframe thead th {\n",
       "        text-align: right;\n",
       "    }\n",
       "</style>\n",
       "<table border=\"1\" class=\"dataframe\">\n",
       "  <thead>\n",
       "    <tr style=\"text-align: right;\">\n",
       "      <th></th>\n",
       "      <th>V1</th>\n",
       "      <th>V2</th>\n",
       "    </tr>\n",
       "    <tr>\n",
       "      <th>Date</th>\n",
       "      <th></th>\n",
       "      <th></th>\n",
       "    </tr>\n",
       "  </thead>\n",
       "  <tbody>\n",
       "    <tr>\n",
       "      <th>2014-02-27</th>\n",
       "      <td>163170.0</td>\n",
       "      <td>175180.0</td>\n",
       "    </tr>\n",
       "    <tr>\n",
       "      <th>2014-02-28</th>\n",
       "      <td>2996.0</td>\n",
       "      <td>1140.0</td>\n",
       "    </tr>\n",
       "    <tr>\n",
       "      <th>2014-03-30</th>\n",
       "      <td>166700.0</td>\n",
       "      <td>178370.0</td>\n",
       "    </tr>\n",
       "    <tr>\n",
       "      <th>2014-03-31</th>\n",
       "      <td>3530.0</td>\n",
       "      <td>3190.0</td>\n",
       "    </tr>\n",
       "    <tr>\n",
       "      <th>2014-04-29</th>\n",
       "      <td>169960.0</td>\n",
       "      <td>180990.0</td>\n",
       "    </tr>\n",
       "    <tr>\n",
       "      <th>2014-04-30</th>\n",
       "      <td>3260.0</td>\n",
       "      <td>2620.0</td>\n",
       "    </tr>\n",
       "    <tr>\n",
       "      <th>2014-05-30</th>\n",
       "      <td>174210.0</td>\n",
       "      <td>184330.0</td>\n",
       "    </tr>\n",
       "    <tr>\n",
       "      <th>2014-05-31</th>\n",
       "      <td>4250.0</td>\n",
       "      <td>3340.0</td>\n",
       "    </tr>\n",
       "    <tr>\n",
       "      <th>2014-06-29</th>\n",
       "      <td>178140.0</td>\n",
       "      <td>187680.0</td>\n",
       "    </tr>\n",
       "    <tr>\n",
       "      <th>2014-06-30</th>\n",
       "      <td>3930.0</td>\n",
       "      <td>3350.0</td>\n",
       "    </tr>\n",
       "    <tr>\n",
       "      <th>2014-07-30</th>\n",
       "      <td>182770.0</td>\n",
       "      <td>191840.0</td>\n",
       "    </tr>\n",
       "    <tr>\n",
       "      <th>2014-07-31</th>\n",
       "      <td>4630.0</td>\n",
       "      <td>4160.0</td>\n",
       "    </tr>\n",
       "    <tr>\n",
       "      <th>2014-08-30</th>\n",
       "      <td>187340.0</td>\n",
       "      <td>195820.0</td>\n",
       "    </tr>\n",
       "    <tr>\n",
       "      <th>2014-08-31</th>\n",
       "      <td>4570.0</td>\n",
       "      <td>3980.0</td>\n",
       "    </tr>\n",
       "    <tr>\n",
       "      <th>2014-09-29</th>\n",
       "      <td>191540.0</td>\n",
       "      <td>199620.0</td>\n",
       "    </tr>\n",
       "    <tr>\n",
       "      <th>2014-09-30</th>\n",
       "      <td>4200.0</td>\n",
       "      <td>3800.0</td>\n",
       "    </tr>\n",
       "  </tbody>\n",
       "</table>\n",
       "</div>"
      ],
      "text/plain": [
       "                  V1        V2\n",
       "Date                          \n",
       "2014-02-27  163170.0  175180.0\n",
       "2014-02-28    2996.0    1140.0\n",
       "2014-03-30  166700.0  178370.0\n",
       "2014-03-31    3530.0    3190.0\n",
       "2014-04-29  169960.0  180990.0\n",
       "2014-04-30    3260.0    2620.0\n",
       "2014-05-30  174210.0  184330.0\n",
       "2014-05-31    4250.0    3340.0\n",
       "2014-06-29  178140.0  187680.0\n",
       "2014-06-30    3930.0    3350.0\n",
       "2014-07-30  182770.0  191840.0\n",
       "2014-07-31    4630.0    4160.0\n",
       "2014-08-30  187340.0  195820.0\n",
       "2014-08-31    4570.0    3980.0\n",
       "2014-09-29  191540.0  199620.0\n",
       "2014-09-30    4200.0    3800.0"
      ]
     },
     "execution_count": 75,
     "metadata": {},
     "output_type": "execute_result"
    }
   ],
   "source": [
    "vending[['V1', 'V2']].loc['2014-02-14':'2014-10-14']"
   ]
  },
  {
   "cell_type": "code",
   "execution_count": 76,
   "id": "841d980c",
   "metadata": {},
   "outputs": [
    {
     "data": {
      "text/plain": [
       "V1         float64\n",
       "V2         float64\n",
       "V3         float64\n",
       "V4         float64\n",
       "Total V    float64\n",
       "dtype: object"
      ]
     },
     "execution_count": 76,
     "metadata": {},
     "output_type": "execute_result"
    }
   ],
   "source": [
    "vending.dtypes"
   ]
  },
  {
   "cell_type": "code",
   "execution_count": 77,
   "id": "99249f81",
   "metadata": {
    "scrolled": false
   },
   "outputs": [
    {
     "data": {
      "text/plain": [
       "Text(0, 0.5, 'Gallons')"
      ]
     },
     "execution_count": 77,
     "metadata": {},
     "output_type": "execute_result"
    },
    {
     "data": {
      "image/png": "[encoded data removed]",
      "text/plain": [
       "<Figure size 864x576 with 1 Axes>"
      ]
     },
     "metadata": {},
     "output_type": "display_data"
    }
   ],
   "source": [
    "ax = vending[['V1', 'V2']][(vending['V1'] < 10000) & (vending['V2'] < 10000)].plot(figsize=(12,8))\n",
    "ax.set_title('Monthly Gallons of Vending Machine 1 and 2', fontsize=20)\n",
    "ax.set_ylabel('Gallons')"
   ]
  },
  {
   "cell_type": "markdown",
   "id": "9853f4f8",
   "metadata": {},
   "source": [
    "## Lion Meter Data"
   ]
  },
  {
   "cell_type": "code",
   "execution_count": 61,
   "id": "afc9fa97",
   "metadata": {},
   "outputs": [],
   "source": [
    "meter_lion = pd.read_excel('../Water Daily Sales/Raw Data/Year 2021/LionStore_DailySale Jun-21.xlsx', sheet_name='Meter_Lion', index_col='Date', parse_dates=True)"
   ]
  },
  {
   "cell_type": "code",
   "execution_count": 62,
   "id": "ce256a37",
   "metadata": {},
   "outputs": [
    {
     "data": {
      "text/html": [
       "<div>\n",
       "<style scoped>\n",
       "    .dataframe tbody tr th:only-of-type {\n",
       "        vertical-align: middle;\n",
       "    }\n",
       "\n",
       "    .dataframe tbody tr th {\n",
       "        vertical-align: top;\n",
       "    }\n",
       "\n",
       "    .dataframe thead th {\n",
       "        text-align: right;\n",
       "    }\n",
       "</style>\n",
       "<table border=\"1\" class=\"dataframe\">\n",
       "  <thead>\n",
       "    <tr style=\"text-align: right;\">\n",
       "      <th></th>\n",
       "      <th>Unnamed: 0</th>\n",
       "      <th>Meter prepaid</th>\n",
       "      <th>Meter Cash</th>\n",
       "      <th>Daily</th>\n",
       "      <th>Daily AVG</th>\n",
       "      <th>Month AVG</th>\n",
       "      <th>Actual</th>\n",
       "      <th>YTD DailyAVG</th>\n",
       "      <th>MOM</th>\n",
       "      <th>MoM%</th>\n",
       "      <th>V1</th>\n",
       "      <th>V2</th>\n",
       "      <th>Total V</th>\n",
       "      <th>V Sales</th>\n",
       "      <th>V $$$</th>\n",
       "      <th>AVG per day</th>\n",
       "      <th>MoM%.1</th>\n",
       "      <th>Pre Filter</th>\n",
       "      <th>Post filter</th>\n",
       "    </tr>\n",
       "    <tr>\n",
       "      <th>Date</th>\n",
       "      <th></th>\n",
       "      <th></th>\n",
       "      <th></th>\n",
       "      <th></th>\n",
       "      <th></th>\n",
       "      <th></th>\n",
       "      <th></th>\n",
       "      <th></th>\n",
       "      <th></th>\n",
       "      <th></th>\n",
       "      <th></th>\n",
       "      <th></th>\n",
       "      <th></th>\n",
       "      <th></th>\n",
       "      <th></th>\n",
       "      <th></th>\n",
       "      <th></th>\n",
       "      <th></th>\n",
       "      <th></th>\n",
       "    </tr>\n",
       "  </thead>\n",
       "  <tbody>\n",
       "    <tr>\n",
       "      <th>2016-05-01</th>\n",
       "      <td>2016-05-01</td>\n",
       "      <td>991.0</td>\n",
       "      <td>NaN</td>\n",
       "      <td>991.0</td>\n",
       "      <td>NaN</td>\n",
       "      <td>NaN</td>\n",
       "      <td>NaN</td>\n",
       "      <td>991.000000</td>\n",
       "      <td>NaN</td>\n",
       "      <td>NaN</td>\n",
       "      <td>NaN</td>\n",
       "      <td>NaN</td>\n",
       "      <td>NaN</td>\n",
       "      <td>NaN</td>\n",
       "      <td>NaN</td>\n",
       "      <td>NaN</td>\n",
       "      <td>NaN</td>\n",
       "      <td>NaN</td>\n",
       "      <td>NaN</td>\n",
       "    </tr>\n",
       "    <tr>\n",
       "      <th>2016-05-02</th>\n",
       "      <td>2016-05-02</td>\n",
       "      <td>811.0</td>\n",
       "      <td>NaN</td>\n",
       "      <td>811.0</td>\n",
       "      <td>NaN</td>\n",
       "      <td>NaN</td>\n",
       "      <td>NaN</td>\n",
       "      <td>901.000000</td>\n",
       "      <td>NaN</td>\n",
       "      <td>NaN</td>\n",
       "      <td>NaN</td>\n",
       "      <td>NaN</td>\n",
       "      <td>NaN</td>\n",
       "      <td>NaN</td>\n",
       "      <td>NaN</td>\n",
       "      <td>NaN</td>\n",
       "      <td>NaN</td>\n",
       "      <td>NaN</td>\n",
       "      <td>NaN</td>\n",
       "    </tr>\n",
       "    <tr>\n",
       "      <th>2016-05-03</th>\n",
       "      <td>2016-05-03</td>\n",
       "      <td>708.0</td>\n",
       "      <td>NaN</td>\n",
       "      <td>708.0</td>\n",
       "      <td>NaN</td>\n",
       "      <td>NaN</td>\n",
       "      <td>NaN</td>\n",
       "      <td>836.666667</td>\n",
       "      <td>NaN</td>\n",
       "      <td>NaN</td>\n",
       "      <td>NaN</td>\n",
       "      <td>NaN</td>\n",
       "      <td>NaN</td>\n",
       "      <td>NaN</td>\n",
       "      <td>NaN</td>\n",
       "      <td>NaN</td>\n",
       "      <td>NaN</td>\n",
       "      <td>NaN</td>\n",
       "      <td>NaN</td>\n",
       "    </tr>\n",
       "    <tr>\n",
       "      <th>2016-05-04</th>\n",
       "      <td>2016-05-04</td>\n",
       "      <td>500.0</td>\n",
       "      <td>NaN</td>\n",
       "      <td>500.0</td>\n",
       "      <td>NaN</td>\n",
       "      <td>NaN</td>\n",
       "      <td>NaN</td>\n",
       "      <td>752.500000</td>\n",
       "      <td>NaN</td>\n",
       "      <td>NaN</td>\n",
       "      <td>NaN</td>\n",
       "      <td>NaN</td>\n",
       "      <td>NaN</td>\n",
       "      <td>NaN</td>\n",
       "      <td>NaN</td>\n",
       "      <td>NaN</td>\n",
       "      <td>NaN</td>\n",
       "      <td>NaN</td>\n",
       "      <td>NaN</td>\n",
       "    </tr>\n",
       "    <tr>\n",
       "      <th>2016-05-05</th>\n",
       "      <td>2016-05-05</td>\n",
       "      <td>645.0</td>\n",
       "      <td>NaN</td>\n",
       "      <td>645.0</td>\n",
       "      <td>NaN</td>\n",
       "      <td>NaN</td>\n",
       "      <td>NaN</td>\n",
       "      <td>731.000000</td>\n",
       "      <td>NaN</td>\n",
       "      <td>NaN</td>\n",
       "      <td>NaN</td>\n",
       "      <td>NaN</td>\n",
       "      <td>NaN</td>\n",
       "      <td>NaN</td>\n",
       "      <td>NaN</td>\n",
       "      <td>NaN</td>\n",
       "      <td>NaN</td>\n",
       "      <td>NaN</td>\n",
       "      <td>NaN</td>\n",
       "    </tr>\n",
       "  </tbody>\n",
       "</table>\n",
       "</div>"
      ],
      "text/plain": [
       "           Unnamed: 0  Meter prepaid  Meter Cash  Daily   Daily AVG  \\\n",
       "Date                                                                  \n",
       "2016-05-01 2016-05-01          991.0         NaN   991.0        NaN   \n",
       "2016-05-02 2016-05-02          811.0         NaN   811.0        NaN   \n",
       "2016-05-03 2016-05-03          708.0         NaN   708.0        NaN   \n",
       "2016-05-04 2016-05-04          500.0         NaN   500.0        NaN   \n",
       "2016-05-05 2016-05-05          645.0         NaN   645.0        NaN   \n",
       "\n",
       "            Month AVG  Actual  YTD DailyAVG  MOM  MoM%  V1  V2  Total V  \\\n",
       "Date                                                                      \n",
       "2016-05-01        NaN     NaN    991.000000  NaN   NaN NaN NaN      NaN   \n",
       "2016-05-02        NaN     NaN    901.000000  NaN   NaN NaN NaN      NaN   \n",
       "2016-05-03        NaN     NaN    836.666667  NaN   NaN NaN NaN      NaN   \n",
       "2016-05-04        NaN     NaN    752.500000  NaN   NaN NaN NaN      NaN   \n",
       "2016-05-05        NaN     NaN    731.000000  NaN   NaN NaN NaN      NaN   \n",
       "\n",
       "            V Sales  V $$$  AVG per day  MoM%.1  Pre Filter  Post filter  \n",
       "Date                                                                      \n",
       "2016-05-01      NaN    NaN          NaN     NaN         NaN          NaN  \n",
       "2016-05-02      NaN    NaN          NaN     NaN         NaN          NaN  \n",
       "2016-05-03      NaN    NaN          NaN     NaN         NaN          NaN  \n",
       "2016-05-04      NaN    NaN          NaN     NaN         NaN          NaN  \n",
       "2016-05-05      NaN    NaN          NaN     NaN         NaN          NaN  "
      ]
     },
     "execution_count": 62,
     "metadata": {},
     "output_type": "execute_result"
    }
   ],
   "source": [
    "meter_lion.head()"
   ]
  },
  {
   "cell_type": "code",
   "execution_count": 63,
   "id": "3533da4a",
   "metadata": {},
   "outputs": [],
   "source": [
    "meter_lion.index.freq = 'D'"
   ]
  },
  {
   "cell_type": "code",
   "execution_count": 64,
   "id": "b687561b",
   "metadata": {},
   "outputs": [
    {
     "data": {
      "text/html": [
       "<div>\n",
       "<style scoped>\n",
       "    .dataframe tbody tr th:only-of-type {\n",
       "        vertical-align: middle;\n",
       "    }\n",
       "\n",
       "    .dataframe tbody tr th {\n",
       "        vertical-align: top;\n",
       "    }\n",
       "\n",
       "    .dataframe thead th {\n",
       "        text-align: right;\n",
       "    }\n",
       "</style>\n",
       "<table border=\"1\" class=\"dataframe\">\n",
       "  <thead>\n",
       "    <tr style=\"text-align: right;\">\n",
       "      <th></th>\n",
       "      <th>Weekday</th>\n",
       "      <th>Meter Prepaid</th>\n",
       "      <th>Meter Cash</th>\n",
       "      <th>Daily</th>\n",
       "      <th>Daily AVG</th>\n",
       "      <th>Month AVG</th>\n",
       "      <th>Actual</th>\n",
       "      <th>YTD DailyAVG</th>\n",
       "      <th>MOM</th>\n",
       "      <th>MoM%</th>\n",
       "      <th>V1</th>\n",
       "      <th>V2</th>\n",
       "      <th>Total V</th>\n",
       "      <th>V Sales</th>\n",
       "      <th>V $$$</th>\n",
       "      <th>AVG per day</th>\n",
       "      <th>MoM%.1</th>\n",
       "      <th>Pre Filter</th>\n",
       "      <th>Post filter</th>\n",
       "    </tr>\n",
       "    <tr>\n",
       "      <th>Date</th>\n",
       "      <th></th>\n",
       "      <th></th>\n",
       "      <th></th>\n",
       "      <th></th>\n",
       "      <th></th>\n",
       "      <th></th>\n",
       "      <th></th>\n",
       "      <th></th>\n",
       "      <th></th>\n",
       "      <th></th>\n",
       "      <th></th>\n",
       "      <th></th>\n",
       "      <th></th>\n",
       "      <th></th>\n",
       "      <th></th>\n",
       "      <th></th>\n",
       "      <th></th>\n",
       "      <th></th>\n",
       "      <th></th>\n",
       "    </tr>\n",
       "  </thead>\n",
       "  <tbody>\n",
       "    <tr>\n",
       "      <th>2016-05-01</th>\n",
       "      <td>Sun</td>\n",
       "      <td>991.0</td>\n",
       "      <td>NaN</td>\n",
       "      <td>991.0</td>\n",
       "      <td>NaN</td>\n",
       "      <td>NaN</td>\n",
       "      <td>NaN</td>\n",
       "      <td>991.000000</td>\n",
       "      <td>NaN</td>\n",
       "      <td>NaN</td>\n",
       "      <td>NaN</td>\n",
       "      <td>NaN</td>\n",
       "      <td>NaN</td>\n",
       "      <td>NaN</td>\n",
       "      <td>NaN</td>\n",
       "      <td>NaN</td>\n",
       "      <td>NaN</td>\n",
       "      <td>NaN</td>\n",
       "      <td>NaN</td>\n",
       "    </tr>\n",
       "    <tr>\n",
       "      <th>2016-05-02</th>\n",
       "      <td>Mon</td>\n",
       "      <td>811.0</td>\n",
       "      <td>NaN</td>\n",
       "      <td>811.0</td>\n",
       "      <td>NaN</td>\n",
       "      <td>NaN</td>\n",
       "      <td>NaN</td>\n",
       "      <td>901.000000</td>\n",
       "      <td>NaN</td>\n",
       "      <td>NaN</td>\n",
       "      <td>NaN</td>\n",
       "      <td>NaN</td>\n",
       "      <td>NaN</td>\n",
       "      <td>NaN</td>\n",
       "      <td>NaN</td>\n",
       "      <td>NaN</td>\n",
       "      <td>NaN</td>\n",
       "      <td>NaN</td>\n",
       "      <td>NaN</td>\n",
       "    </tr>\n",
       "    <tr>\n",
       "      <th>2016-05-03</th>\n",
       "      <td>Tue</td>\n",
       "      <td>708.0</td>\n",
       "      <td>NaN</td>\n",
       "      <td>708.0</td>\n",
       "      <td>NaN</td>\n",
       "      <td>NaN</td>\n",
       "      <td>NaN</td>\n",
       "      <td>836.666667</td>\n",
       "      <td>NaN</td>\n",
       "      <td>NaN</td>\n",
       "      <td>NaN</td>\n",
       "      <td>NaN</td>\n",
       "      <td>NaN</td>\n",
       "      <td>NaN</td>\n",
       "      <td>NaN</td>\n",
       "      <td>NaN</td>\n",
       "      <td>NaN</td>\n",
       "      <td>NaN</td>\n",
       "      <td>NaN</td>\n",
       "    </tr>\n",
       "    <tr>\n",
       "      <th>2016-05-04</th>\n",
       "      <td>Wed</td>\n",
       "      <td>500.0</td>\n",
       "      <td>NaN</td>\n",
       "      <td>500.0</td>\n",
       "      <td>NaN</td>\n",
       "      <td>NaN</td>\n",
       "      <td>NaN</td>\n",
       "      <td>752.500000</td>\n",
       "      <td>NaN</td>\n",
       "      <td>NaN</td>\n",
       "      <td>NaN</td>\n",
       "      <td>NaN</td>\n",
       "      <td>NaN</td>\n",
       "      <td>NaN</td>\n",
       "      <td>NaN</td>\n",
       "      <td>NaN</td>\n",
       "      <td>NaN</td>\n",
       "      <td>NaN</td>\n",
       "      <td>NaN</td>\n",
       "    </tr>\n",
       "    <tr>\n",
       "      <th>2016-05-05</th>\n",
       "      <td>Thu</td>\n",
       "      <td>645.0</td>\n",
       "      <td>NaN</td>\n",
       "      <td>645.0</td>\n",
       "      <td>NaN</td>\n",
       "      <td>NaN</td>\n",
       "      <td>NaN</td>\n",
       "      <td>731.000000</td>\n",
       "      <td>NaN</td>\n",
       "      <td>NaN</td>\n",
       "      <td>NaN</td>\n",
       "      <td>NaN</td>\n",
       "      <td>NaN</td>\n",
       "      <td>NaN</td>\n",
       "      <td>NaN</td>\n",
       "      <td>NaN</td>\n",
       "      <td>NaN</td>\n",
       "      <td>NaN</td>\n",
       "      <td>NaN</td>\n",
       "    </tr>\n",
       "  </tbody>\n",
       "</table>\n",
       "</div>"
      ],
      "text/plain": [
       "           Weekday  Meter Prepaid  Meter Cash  Daily  Daily AVG  Month AVG  \\\n",
       "Date                                                                         \n",
       "2016-05-01     Sun          991.0         NaN  991.0        NaN        NaN   \n",
       "2016-05-02     Mon          811.0         NaN  811.0        NaN        NaN   \n",
       "2016-05-03     Tue          708.0         NaN  708.0        NaN        NaN   \n",
       "2016-05-04     Wed          500.0         NaN  500.0        NaN        NaN   \n",
       "2016-05-05     Thu          645.0         NaN  645.0        NaN        NaN   \n",
       "\n",
       "            Actual  YTD DailyAVG  MOM  MoM%  V1  V2  Total V  V Sales  V $$$  \\\n",
       "Date                                                                           \n",
       "2016-05-01     NaN    991.000000  NaN   NaN NaN NaN      NaN      NaN    NaN   \n",
       "2016-05-02     NaN    901.000000  NaN   NaN NaN NaN      NaN      NaN    NaN   \n",
       "2016-05-03     NaN    836.666667  NaN   NaN NaN NaN      NaN      NaN    NaN   \n",
       "2016-05-04     NaN    752.500000  NaN   NaN NaN NaN      NaN      NaN    NaN   \n",
       "2016-05-05     NaN    731.000000  NaN   NaN NaN NaN      NaN      NaN    NaN   \n",
       "\n",
       "            AVG per day  MoM%.1  Pre Filter  Post filter  \n",
       "Date                                                      \n",
       "2016-05-01          NaN     NaN         NaN          NaN  \n",
       "2016-05-02          NaN     NaN         NaN          NaN  \n",
       "2016-05-03          NaN     NaN         NaN          NaN  \n",
       "2016-05-04          NaN     NaN         NaN          NaN  \n",
       "2016-05-05          NaN     NaN         NaN          NaN  "
      ]
     },
     "execution_count": 64,
     "metadata": {},
     "output_type": "execute_result"
    }
   ],
   "source": [
    "meter_lion = meter_lion.rename(columns={'Unnamed: 0':'Weekday', 'Daily ':'Daily', 'Meter prepaid':'Meter Prepaid'})\n",
    "meter_lion['Weekday'] = meter_lion.index.day_name()\n",
    "meter_lion['Weekday'] = meter_lion['Weekday'].apply(lambda x: x[:3])\n",
    "meter_lion.head()"
   ]
  },
  {
   "cell_type": "code",
   "execution_count": 65,
   "id": "02ff0613",
   "metadata": {},
   "outputs": [],
   "source": [
    "missing = meter_lion.isnull().sum()/len(meter_lion)*100\n",
    "missing = missing.drop(missing[missing==0].index).sort_values(ascending=False)\n",
    "missing_values = pd.DataFrame({'Missing Ratio':missing})"
   ]
  },
  {
   "cell_type": "code",
   "execution_count": 66,
   "id": "8b25ebcf",
   "metadata": {},
   "outputs": [
    {
     "data": {
      "text/plain": [
       "Index(['Weekday', 'Meter Prepaid', 'Meter Cash', 'Daily', 'Daily AVG',\n",
       "       'Month AVG', 'Actual', 'YTD DailyAVG', 'MOM', 'MoM%', 'V1', 'V2',\n",
       "       'Total V', 'V Sales', 'V $$$', 'AVG per day', 'MoM%.1', 'Pre Filter',\n",
       "       'Post filter'],\n",
       "      dtype='object')"
      ]
     },
     "execution_count": 66,
     "metadata": {},
     "output_type": "execute_result"
    }
   ],
   "source": [
    "meter_lion.columns"
   ]
  },
  {
   "cell_type": "code",
   "execution_count": 67,
   "id": "9fa8d91b",
   "metadata": {},
   "outputs": [],
   "source": [
    "daily_meter_lion = meter_lion[['Weekday', 'Meter Prepaid', 'Meter Cash', 'Daily']]"
   ]
  },
  {
   "cell_type": "code",
   "execution_count": 68,
   "id": "9a29a9b3",
   "metadata": {},
   "outputs": [
    {
     "data": {
      "text/html": [
       "<div>\n",
       "<style scoped>\n",
       "    .dataframe tbody tr th:only-of-type {\n",
       "        vertical-align: middle;\n",
       "    }\n",
       "\n",
       "    .dataframe tbody tr th {\n",
       "        vertical-align: top;\n",
       "    }\n",
       "\n",
       "    .dataframe thead th {\n",
       "        text-align: right;\n",
       "    }\n",
       "</style>\n",
       "<table border=\"1\" class=\"dataframe\">\n",
       "  <thead>\n",
       "    <tr style=\"text-align: right;\">\n",
       "      <th></th>\n",
       "      <th>Weekday</th>\n",
       "      <th>Meter Prepaid</th>\n",
       "      <th>Meter Cash</th>\n",
       "      <th>Daily</th>\n",
       "    </tr>\n",
       "    <tr>\n",
       "      <th>Date</th>\n",
       "      <th></th>\n",
       "      <th></th>\n",
       "      <th></th>\n",
       "      <th></th>\n",
       "    </tr>\n",
       "  </thead>\n",
       "  <tbody>\n",
       "    <tr>\n",
       "      <th>2021-07-06</th>\n",
       "      <td>Tue</td>\n",
       "      <td>NaN</td>\n",
       "      <td>NaN</td>\n",
       "      <td>NaN</td>\n",
       "    </tr>\n",
       "    <tr>\n",
       "      <th>2021-07-07</th>\n",
       "      <td>Wed</td>\n",
       "      <td>NaN</td>\n",
       "      <td>NaN</td>\n",
       "      <td>NaN</td>\n",
       "    </tr>\n",
       "    <tr>\n",
       "      <th>2021-07-08</th>\n",
       "      <td>Thu</td>\n",
       "      <td>NaN</td>\n",
       "      <td>NaN</td>\n",
       "      <td>NaN</td>\n",
       "    </tr>\n",
       "    <tr>\n",
       "      <th>2021-07-09</th>\n",
       "      <td>Fri</td>\n",
       "      <td>NaN</td>\n",
       "      <td>NaN</td>\n",
       "      <td>NaN</td>\n",
       "    </tr>\n",
       "    <tr>\n",
       "      <th>2021-07-10</th>\n",
       "      <td>Sat</td>\n",
       "      <td>NaN</td>\n",
       "      <td>NaN</td>\n",
       "      <td>NaN</td>\n",
       "    </tr>\n",
       "  </tbody>\n",
       "</table>\n",
       "</div>"
      ],
      "text/plain": [
       "           Weekday  Meter Prepaid  Meter Cash  Daily\n",
       "Date                                                \n",
       "2021-07-06     Tue            NaN         NaN    NaN\n",
       "2021-07-07     Wed            NaN         NaN    NaN\n",
       "2021-07-08     Thu            NaN         NaN    NaN\n",
       "2021-07-09     Fri            NaN         NaN    NaN\n",
       "2021-07-10     Sat            NaN         NaN    NaN"
      ]
     },
     "execution_count": 68,
     "metadata": {},
     "output_type": "execute_result"
    }
   ],
   "source": [
    "daily_meter_lion.tail()"
   ]
  },
  {
   "cell_type": "code",
   "execution_count": 69,
   "id": "0870587e",
   "metadata": {},
   "outputs": [
    {
     "data": {
      "text/html": [
       "<div>\n",
       "<style scoped>\n",
       "    .dataframe tbody tr th:only-of-type {\n",
       "        vertical-align: middle;\n",
       "    }\n",
       "\n",
       "    .dataframe tbody tr th {\n",
       "        vertical-align: top;\n",
       "    }\n",
       "\n",
       "    .dataframe thead th {\n",
       "        text-align: right;\n",
       "    }\n",
       "</style>\n",
       "<table border=\"1\" class=\"dataframe\">\n",
       "  <thead>\n",
       "    <tr style=\"text-align: right;\">\n",
       "      <th></th>\n",
       "      <th>Weekday</th>\n",
       "      <th>Meter Prepaid</th>\n",
       "      <th>Meter Cash</th>\n",
       "      <th>Daily</th>\n",
       "    </tr>\n",
       "    <tr>\n",
       "      <th>Date</th>\n",
       "      <th></th>\n",
       "      <th></th>\n",
       "      <th></th>\n",
       "      <th></th>\n",
       "    </tr>\n",
       "  </thead>\n",
       "  <tbody>\n",
       "    <tr>\n",
       "      <th>2016-11-24</th>\n",
       "      <td>Thu</td>\n",
       "      <td>NaN</td>\n",
       "      <td>NaN</td>\n",
       "      <td>0.0</td>\n",
       "    </tr>\n",
       "    <tr>\n",
       "      <th>2016-12-25</th>\n",
       "      <td>Sun</td>\n",
       "      <td>NaN</td>\n",
       "      <td>NaN</td>\n",
       "      <td>0.0</td>\n",
       "    </tr>\n",
       "    <tr>\n",
       "      <th>2017-11-23</th>\n",
       "      <td>Thu</td>\n",
       "      <td>NaN</td>\n",
       "      <td>NaN</td>\n",
       "      <td>0.0</td>\n",
       "    </tr>\n",
       "    <tr>\n",
       "      <th>2017-12-25</th>\n",
       "      <td>Mon</td>\n",
       "      <td>NaN</td>\n",
       "      <td>NaN</td>\n",
       "      <td>0.0</td>\n",
       "    </tr>\n",
       "    <tr>\n",
       "      <th>2020-12-01</th>\n",
       "      <td>Tue</td>\n",
       "      <td>NaN</td>\n",
       "      <td>NaN</td>\n",
       "      <td>0.0</td>\n",
       "    </tr>\n",
       "    <tr>\n",
       "      <th>2020-12-02</th>\n",
       "      <td>Wed</td>\n",
       "      <td>NaN</td>\n",
       "      <td>NaN</td>\n",
       "      <td>0.0</td>\n",
       "    </tr>\n",
       "  </tbody>\n",
       "</table>\n",
       "</div>"
      ],
      "text/plain": [
       "           Weekday  Meter Prepaid  Meter Cash  Daily\n",
       "Date                                                \n",
       "2016-11-24     Thu            NaN         NaN    0.0\n",
       "2016-12-25     Sun            NaN         NaN    0.0\n",
       "2017-11-23     Thu            NaN         NaN    0.0\n",
       "2017-12-25     Mon            NaN         NaN    0.0\n",
       "2020-12-01     Tue            NaN         NaN    0.0\n",
       "2020-12-02     Wed            NaN         NaN    0.0"
      ]
     },
     "execution_count": 69,
     "metadata": {},
     "output_type": "execute_result"
    }
   ],
   "source": [
    "daily_meter_lion[daily_meter_lion['Daily']==0].head(6)"
   ]
  },
  {
   "cell_type": "code",
   "execution_count": 70,
   "id": "a9158d2f",
   "metadata": {},
   "outputs": [],
   "source": [
    "daily_meter_lion = daily_meter_lion[:'2020-11-30']\n",
    "daily_meter_lion = daily_meter_lion.fillna(0)"
   ]
  },
  {
   "cell_type": "code",
   "execution_count": 90,
   "id": "f36c5b74",
   "metadata": {},
   "outputs": [
    {
     "data": {
      "text/plain": [
       "<AxesSubplot:xlabel='Date'>"
      ]
     },
     "execution_count": 90,
     "metadata": {},
     "output_type": "execute_result"
    },
    {
     "data": {
      "image/png": "[encoded data removed]",
      "text/plain": [
       "<Figure size 864x576 with 1 Axes>"
      ]
     },
     "metadata": {},
     "output_type": "display_data"
    }
   ],
   "source": [
    "daily_meter_lion['Daily'].plot(figsize=(12,8), legend=True)\n",
    "rolling = daily_meter_lion['Daily'].rolling(window=7).mean().rename('7 Day Moving Avg')\n",
    "rolling.plot(legend=True)"
   ]
  },
  {
   "cell_type": "code",
   "execution_count": 91,
   "id": "7c30e91f",
   "metadata": {
    "scrolled": false
   },
   "outputs": [
    {
     "data": {
      "text/plain": [
       "<AxesSubplot:xlabel='Date'>"
      ]
     },
     "execution_count": 91,
     "metadata": {},
     "output_type": "execute_result"
    },
    {
     "data": {
      "image/png": "[encoded data removed]",
      "text/plain": [
       "<Figure size 864x576 with 1 Axes>"
      ]
     },
     "metadata": {},
     "output_type": "display_data"
    }
   ],
   "source": [
    "daily_meter_lion['Daily'].resample('M').mean().plot(figsize=(12,8))"
   ]
  },
  {
   "cell_type": "code",
   "execution_count": 140,
   "id": "2a6734da",
   "metadata": {
    "scrolled": true
   },
   "outputs": [
    {
     "data": {
      "text/plain": [
       "Index(['Weekday', 'Meter Prepaid', 'Meter Cash', 'Daily', 'Daily AVG',\n",
       "       'Month AVG', 'Actual', 'YTD DailyAVG', 'MOM', 'MoM%', 'V1', 'V2',\n",
       "       'Total V', 'V Sales', 'V $$$', 'AVG per day', 'MoM%.1', 'Pre Filter',\n",
       "       'Post filter'],\n",
       "      dtype='object')"
      ]
     },
     "execution_count": 140,
     "metadata": {},
     "output_type": "execute_result"
    }
   ],
   "source": [
    "meter_lion.columns"
   ]
  },
  {
   "cell_type": "code",
   "execution_count": 142,
   "id": "e6761769",
   "metadata": {},
   "outputs": [],
   "source": [
    "vending_lion = meter_lion[['V1','V2']].dropna(how='all')"
   ]
  },
  {
   "cell_type": "code",
   "execution_count": 144,
   "id": "592a36fa",
   "metadata": {
    "scrolled": true
   },
   "outputs": [
    {
     "data": {
      "text/plain": [
       "<AxesSubplot:xlabel='Date'>"
      ]
     },
     "execution_count": 144,
     "metadata": {},
     "output_type": "execute_result"
    },
    {
     "data": {
      "image/png": "[encoded data removed]",
      "text/plain": [
       "<Figure size 432x288 with 1 Axes>"
      ]
     },
     "metadata": {},
     "output_type": "display_data"
    }
   ],
   "source": [
    "vending_lion.plot()"
   ]
  },
  {
   "cell_type": "code",
   "execution_count": 71,
   "id": "b09ee620",
   "metadata": {},
   "outputs": [],
   "source": [
    "daily_meter_lion = daily_meter_lion.dropna()\n",
    "daily_meter_lion = daily_meter_lion.resample('D').sum().fillna(0)"
   ]
  },
  {
   "cell_type": "markdown",
   "id": "e6066774",
   "metadata": {},
   "source": [
    "## Exporting"
   ]
  },
  {
   "cell_type": "code",
   "execution_count": 79,
   "id": "8020b13b",
   "metadata": {},
   "outputs": [],
   "source": [
    "daily_meter_lucky.to_csv('meter_lucky.csv')\n",
    "daily_meter_fm.to_csv('meter_fm.csv')\n",
    "vending.to_csv('vending_fm.csv')\n",
    "daily_meter_lion.to_csv('meter_lion.csv')"
   ]
  },
  {
   "cell_type": "code",
   "execution_count": null,
   "id": "e8def863",
   "metadata": {},
   "outputs": [],
   "source": []
  }
 ],
 "metadata": {
  "kernelspec": {
   "display_name": "Python 3",
   "language": "python",
   "name": "python3"
  },
  "language_info": {
   "codemirror_mode": {
    "name": "ipython",
    "version": 3
   },
   "file_extension": ".py",
   "mimetype": "text/x-python",
   "name": "python",
   "nbconvert_exporter": "python",
   "pygments_lexer": "ipython3",
   "version": "3.8.8"
  }
 },
 "nbformat": 4,
 "nbformat_minor": 5
}
